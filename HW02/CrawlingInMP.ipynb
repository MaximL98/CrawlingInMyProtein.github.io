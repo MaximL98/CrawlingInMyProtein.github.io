{
  "nbformat": 4,
  "nbformat_minor": 0,
  "metadata": {
    "colab": {
      "provenance": [],
      "include_colab_link": true
    },
    "kernelspec": {
      "name": "python3",
      "display_name": "Python 3"
    },
    "language_info": {
      "name": "python"
    }
  },
  "cells": [
    {
      "cell_type": "markdown",
      "metadata": {
        "id": "view-in-github",
        "colab_type": "text"
      },
      "source": [
        "<a href=\"https://colab.research.google.com/github/MaximL98/CrawlingInMyProtein.github.io/blob/master/HW02/CrawlingInMP.ipynb\" target=\"_parent\"><img src=\"https://colab.research.google.com/assets/colab-badge.svg\" alt=\"Open In Colab\"/></a>"
      ]
    },
    {
      "cell_type": "markdown",
      "source": [
        "# Crawling in My Protein: by Crawling In My Skin™\n",
        "\n",
        "In this colab file, we will implement a basic crawler for HW2\n"
      ],
      "metadata": {
        "id": "gnRgF6WOjrAy"
      }
    },
    {
      "cell_type": "code",
      "execution_count": null,
      "metadata": {
        "id": "q9SKXBugKRzx"
      },
      "outputs": [],
      "source": [
        "# Imports\n",
        "import requests\n",
        "import numpy as np\n",
        "import pandas as pd\n",
        "from bs4 import BeautifulSoup"
      ]
    },
    {
      "cell_type": "markdown",
      "source": [
        "This is the website link we will scrape"
      ],
      "metadata": {
        "id": "LZPePItAj910"
      }
    },
    {
      "cell_type": "code",
      "source": [
        "mp_url = \"https://www.myprotein.co.il/nutrition/protein.list\"\n",
        "\n",
        "# Use requests to retrieve data from a given URL\n",
        "mp_response = requests.get(mp_url)\n",
        "\n",
        "# Parse the whole HTML page using BeautifulSoup\n",
        "mp_soup = BeautifulSoup(mp_response.text, 'html.parser')\n"
      ],
      "metadata": {
        "id": "tC55lry_N6BD"
      },
      "execution_count": null,
      "outputs": []
    },
    {
      "cell_type": "markdown",
      "source": [
        "**Traverse the page https://www.myprotein.co.il/nutrition/protein.list**\n",
        "\n",
        "For each item in that page, get the name of the product and it's link\n"
      ],
      "metadata": {
        "id": "OAqguD6UkVC2"
      }
    },
    {
      "cell_type": "code",
      "source": [
        "mp_main = 'https://www.myprotein.co.il'\n",
        "\n",
        "all_products = mp_soup.find('ul', {'class': 'productListProducts_products'})\n",
        "product_list = all_products.find('li', {'class': 'productListProducts_product'})\n",
        "\n",
        "if all_products:\n",
        "  product_list = all_products.find_all('li')\n",
        "  links = []\n",
        "  product_names = []\n",
        "  for li in product_list:\n",
        "    a_tag_array = li.findAll('a', {'class': 'productBlock_link'})\n",
        "    a_tag = a_tag_array[1]\n",
        "    if a_tag:\n",
        "      links.append(mp_main + a_tag['href'])\n",
        "      h3_tag = a_tag.find('h3', {'class': 'productBlock_productName'})\n",
        "      if h3_tag:\n",
        "        product_names.append(h3_tag.text.strip())\n",
        "\n",
        "print(product_names)\n",
        "print(links)\n"
      ],
      "metadata": {
        "colab": {
          "base_uri": "https://localhost:8080/"
        },
        "id": "iQTJCkp1RVQA",
        "outputId": "aa17b2c4-8a80-4081-fa8a-08e67c50753b"
      },
      "execution_count": null,
      "outputs": [
        {
          "output_type": "stream",
          "name": "stdout",
          "text": [
            "['Impact Whey Protein Powder', 'Impact Whey Isolate Powder', 'Clear Whey Protein Powder', 'Clear Vegan Protein', 'Impact Soy Protein', 'Impact Vegan Protein', 'Impact Pea Protein', 'Impact Weight Gainer', 'THE Whey', 'Impact Diet Whey', 'Impact Casein Powder', 'Whey Forward Isolate', 'Plant Protein Superblend', 'Total Protein Blend', 'Collagen Protein Powder', 'Clear Whey Diet', 'Protein Meal Replacement Blend', 'Clear Collagen Protein Powder', 'Clear Vegan Protein (Sample)', 'Clear Whey Protein (Sample)', 'Clear Whey Hydrate', 'Clear Weight Gainer', 'Hydrolysed Whey Protein Powder', 'Protein Hot Chocolate', 'Vegan Protein Blend (Sample)', 'THE Diet™', 'Soy Protein Isolate (Sample)', 'All-in-One Recovery', 'Breakfast Smoothie', 'Clear Soy Protein']\n",
            "['https://www.myprotein.co.il/sports-nutrition/impact-whey-protein-powder/10530943.html', 'https://www.myprotein.co.il/sports-nutrition/impact-whey-isolate-powder/10530911.html', 'https://www.myprotein.co.il/sports-nutrition/clear-whey-protein-powder/12081395.html', 'https://www.myprotein.co.il/sports-nutrition/clear-vegan-protein/12360400.html', 'https://www.myprotein.co.il/sports-nutrition/soy-protein-isolate/10529701.html', 'https://www.myprotein.co.il/sports-nutrition/vegan-protein-blend/11776868.html', 'https://www.myprotein.co.il/sports-nutrition/pea-protein-isolate/10530136.html', 'https://www.myprotein.co.il/sports-nutrition/impact-weight-gainer/10529988.html', 'https://www.myprotein.co.il/sports-nutrition/the-whey/11353515.html', 'https://www.myprotein.co.il/sports-nutrition/impact-diet-whey/10530657.html', 'https://www.myprotein.co.il/sports-nutrition/impact-casein-powder/10798909.html', 'https://www.myprotein.co.il/sports-nutrition/whey-forward-isolate/14960829.html', 'https://www.myprotein.co.il/sports-nutrition/plant-protein-superblend/13972449.html', 'https://www.myprotein.co.il/sports-nutrition/total-protein-blend/10529951.html', 'https://www.myprotein.co.il/sports-nutrition/collagen-protein-powder/11067704.html', 'https://www.myprotein.co.il/sports-nutrition/clear-whey-diet/13125562.html', 'https://www.myprotein.co.il/sports-nutrition/protein-meal-replacement-blend/11324199.html', 'https://www.myprotein.co.il/sports-nutrition/clear-collagen-protein-powder/12865492.html', 'https://www.myprotein.co.il/sports-nutrition/clear-vegan-protein-sample/12360405.html', 'https://www.myprotein.co.il/sports-nutrition/clear-whey-protein-sample/12081401.html', 'https://www.myprotein.co.il/sports-nutrition/clear-whey-hydrate/12869895.html', 'https://www.myprotein.co.il/sports-nutrition/clear-weight-gainer/13096868.html', 'https://www.myprotein.co.il/sports-nutrition/hydrolysed-whey-protein-powder/10529805.html', 'https://www.myprotein.co.il/sports-nutrition/protein-hot-chocolate/10926373.html', 'https://www.myprotein.co.il/sports-nutrition/vegan-protein-blend-sample/11332873.html', 'https://www.myprotein.co.il/sports-nutrition/the-diet/11350864.html', 'https://www.myprotein.co.il/sports-nutrition/soy-protein-isolate-sample/11332868.html', 'https://www.myprotein.co.il/sports-nutrition/all-in-one-recovery/10530268.html', 'https://www.myprotein.co.il/sports-nutrition/breakfast-smoothie/13251950.html', 'https://www.myprotein.co.il/sports-nutrition/clear-soy-protein/12853864.html']\n"
          ]
        }
      ]
    },
    {
      "cell_type": "markdown",
      "source": [
        "For each item, find the div which contains the ingredients the product is made of."
      ],
      "metadata": {
        "id": "IQA4vyMEk9qd"
      }
    },
    {
      "cell_type": "code",
      "source": [
        "ingredients_array = []\n",
        "\n",
        "for link in links:\n",
        "  # Use requests to retrieve data from a given URL\n",
        "  mp_response = requests.get(link)\n",
        "  # Parse the whole HTML page using BeautifulSoup\n",
        "  mp_soup = BeautifulSoup(mp_response.text, 'html.parser')\n",
        "\n",
        "  # Ingredient information retrieval\n",
        "  product_div_ingredients = mp_soup.find('div', {'class': 'productDescription_contentPropertyListItem_ingredients'})\n",
        "  ingredients_div = product_div_ingredients.find('div', class_='athenaProductPageSynopsisContent')\n",
        "  ingredients_text = ingredients_div.text.strip()\n",
        "  ingredients_array.append(ingredients_text)\n",
        "\n"
      ],
      "metadata": {
        "id": "f9qshOzAKY75"
      },
      "execution_count": null,
      "outputs": []
    },
    {
      "cell_type": "markdown",
      "source": [
        " **Print first 3 ingredients**\n",
        "\n",
        " Example of how the first 3 product ingredients description looks like"
      ],
      "metadata": {
        "id": "iynIifNAq1aw"
      }
    },
    {
      "cell_type": "code",
      "source": [
        "for i, ing in enumerate(ingredients_array):\n",
        "  print(f\"Product name: {product_names[i]}\\n\")\n",
        "  print(\"Description:\")\n",
        "  #print(details_array_new[i])\n",
        "  print(ing + '\\n')\n",
        "  print(\"************************************************************************************************************************************************************************************************************************************************************************************************************\")\n",
        "\n",
        "  if i == 2:\n",
        "    break;"
      ],
      "metadata": {
        "colab": {
          "base_uri": "https://localhost:8080/"
        },
        "id": "1oTEXN-9TKiL",
        "outputId": "5d4cefd6-032e-4647-fb5d-e060af55ce7f",
        "collapsed": true
      },
      "execution_count": null,
      "outputs": [
        {
          "output_type": "stream",
          "name": "stdout",
          "text": [
            "Product name: Impact Whey Protein Powder\n",
            "\n",
            "Description:\n",
            "Ingredients: Whey Protein Concentrate (Milk) (100%) (contains Emulsifiers (Soya Lecithin, Sunflower Lecithin)).\n",
            "\n",
            "************************************************************************************************************************************************************************************************************************************************************************************************************\n",
            "Product name: Impact Whey Isolate Powder\n",
            "\n",
            "Description:\n",
            "Ingredients: Whey Protein Isolate (Milk) (90%) (contains Emulsifiers (Soya Lecithin, Sunflower Lecithin)), Fat Reduced Cocoa Powder (8%), Natural Flavouring, Sweetener (Sucralose).\n",
            "\n",
            "************************************************************************************************************************************************************************************************************************************************************************************************************\n",
            "Product name: Clear Whey Protein Powder\n",
            "\n",
            "Description:\n",
            "Ingredients: Whey Protein Hydrolysate (Milk) (96%), Natural Flavouring, Acid (Citric Acid), Acidity Regulator (Phosphoric Acid), Anti-Foaming Agents (Dimethyl Polysiloxane, Silicon Dioxide), Sweetener (Sucralose).\n",
            "\n",
            "************************************************************************************************************************************************************************************************************************************************************************************************************\n"
          ]
        }
      ]
    },
    {
      "cell_type": "markdown",
      "source": [
        "Here, we implement the functions which pre-process words.\n",
        "This process removes stopwords such as [a, this, you, they, is], removes punctuations [. , _ -], and converts them into their basic form [basically -> basic, ingredients -> ingredient]"
      ],
      "metadata": {
        "id": "jxsAX6mNZeoi"
      }
    },
    {
      "cell_type": "code",
      "source": [
        "# Imports for word preprocessing\n",
        "import re\n",
        "from collections import defaultdict\n",
        "import nltk\n",
        "nltk.download('wordnet')\n",
        "nltk.download('punkt')\n",
        "nltk.download('stopwords')\n",
        "from nltk.stem import PorterStemmer, WordNetLemmatizer\n",
        "from collections import Counter\n",
        "from nltk.corpus import stopwords\n",
        "\n",
        "# List of english stop words\n",
        "STOP_WORDS = set(stopwords.words('english'))\n",
        "\n",
        "# Create a dictionary, each entry in the dictionary is a tuple of (word, list), where list\n",
        "# is the index in which that word is located in the string \"text\"\n",
        "def create_inverted_index(text):\n",
        "  \"\"\"\n",
        "  Args:\n",
        "    text: string\n",
        "  Returns:\n",
        "    dictionary [(word, list), (word, list), ....]\n",
        "  \"\"\"\n",
        "  inverted_index = defaultdict(list)\n",
        "  words = text.split()\n",
        "\n",
        "  for index, word in enumerate(words):\n",
        "    inverted_index[word].append(index)\n",
        "\n",
        "  return inverted_index\n",
        "\n",
        "# Input is\n",
        "def preprocess_text(text):\n",
        "  \"\"\"\n",
        "  Args:\n",
        "    text: string\n",
        "  Returns:\n",
        "    list of preprocessed words\n",
        "  \"\"\"\n",
        "  # Remove punctuation\n",
        "  text = re.sub(r'[^\\w\\s]', '', text)\n",
        "  # Convert to lowercase\n",
        "  text = text.lower()\n",
        "  # Tokenize\n",
        "  words = nltk.word_tokenize(text)\n",
        "  # Remove stop words\n",
        "  words = [word for word in words if word not in STOP_WORDS]\n",
        "  # Lemmatize\n",
        "  lemmatizer = WordNetLemmatizer()\n",
        "  lemmas = [lemmatizer.lemmatize(word) for word in words]\n",
        "  return lemmas"
      ],
      "metadata": {
        "colab": {
          "base_uri": "https://localhost:8080/"
        },
        "id": "Aqb9UXRv_yZY",
        "outputId": "44f1ff12-5090-41b8-b4df-68c8397effbf"
      },
      "execution_count": null,
      "outputs": [
        {
          "output_type": "stream",
          "name": "stderr",
          "text": [
            "[nltk_data] Downloading package wordnet to /root/nltk_data...\n",
            "[nltk_data] Downloading package punkt to /root/nltk_data...\n",
            "[nltk_data]   Unzipping tokenizers/punkt.zip.\n",
            "[nltk_data] Downloading package stopwords to /root/nltk_data...\n",
            "[nltk_data]   Unzipping corpora/stopwords.zip.\n"
          ]
        }
      ]
    },
    {
      "cell_type": "markdown",
      "source": [
        "**Function to find the 15 most common words**\n",
        "\n",
        ">\n",
        "\n",
        "\n"
      ],
      "metadata": {
        "id": "0vwSCBWIBGP8"
      }
    },
    {
      "cell_type": "code",
      "source": [
        "# Create one long string to easily search the number of appearences of every dictionary word in the documents.\n",
        "string_of_texts = \"\"\n",
        "\n",
        "# For each document in ingredients_and_description_array, preprocess the text. This leaves each document with the important words.\n",
        "for i, text in enumerate(ingredients_array):\n",
        "\n",
        "  # Preprocess the text variable, where text=string (Can be product overview or ingredients). Return list of preprecessed words.\n",
        "  list_of_preprocessed_words = preprocess_text(text) # For each\n",
        "  preprocessed_text = \"\"\n",
        "\n",
        "  for word in list_of_preprocessed_words:\n",
        "    preprocessed_text += word + \" \" # Convert the list to a string of words\n",
        "\n",
        "  string_of_texts += preprocessed_text # Create on long string for inverted indexation\n",
        "string_of_texts = string_of_texts + \"no doesnt not doesnt\"\n",
        "# Calculate the inverted index for the entire word list\n",
        "invertedIndex = create_inverted_index(string_of_texts)\n",
        "\n",
        "# Two examples for words and the number of times they appear in 60 documents.\n",
        "print(\"\\\"ingredient\\\", appears\", len(invertedIndex[\"ingredient\"]), \" times.\", )\n",
        "print(\"\\\"whey\\\", appears\", len(invertedIndex[\"whey\"]), \" times.\")\n",
        "\n",
        "# List of all words extracted from the documents.\n",
        "print(invertedIndex.keys())\n"
      ],
      "metadata": {
        "colab": {
          "base_uri": "https://localhost:8080/"
        },
        "id": "uASnuZq8BDBv",
        "outputId": "19682148-eadc-45e0-c7e2-4fc71e372f0e"
      },
      "execution_count": null,
      "outputs": [
        {
          "output_type": "stream",
          "name": "stdout",
          "text": [
            "\"ingredient\", appears 30  times.\n",
            "\"whey\", appears 34  times.\n",
            "dict_keys(['ingredient', 'whey', 'protein', 'concentrate', 'milk', '100', 'contains', 'emulsifier', 'soya', 'lecithin', 'sunflower', 'isolate', '90', 'fat', 'reduced', 'cocoa', 'powder', '8', 'natural', 'flavouring', 'sweetener', 'sucralose', 'hydrolysate', '96', 'acid', 'citric', 'acidity', 'regulator', 'phosphoric', 'antifoaming', 'agent', 'dimethyl', 'polysiloxane', 'silicon', 'dioxide', 'hydrolysed', 'pea', '78', 'juice', '12', 'lemon', 'lime', 'vitamin', 'b', 'blend', 'niacin', 'pantothenic', 'b6', 'thiamin', 'riboflavin', 'folic', 'biotin', 'b12', 'curcuma', 'oil', 'extract', 'vegan', '88', 'fava', 'bean', 'creamer', 'modified', 'tapioca', 'starch', 'anticaking', 'antioxidant', 'alphatocopherol', 'thickener', 'xanthan', 'gum', '85', 'dlalphatocopherol', 'stabiliser', 'oat', 'flour', '63', '28', 'maltodextrin', '5', '92', 'lacprodan', 'hydropower', 'salt', 'colour', 'ammonia', 'caramel', 'bacillus', 'coagulans', 'myzyme', '02', 'fungal', 'protease', 'amylase', 'lactase', 'cellulase', 'lipase', '74', 'inulin', '7', 'lglutamine', 'flax', 'seed', '2', 'cla', 'preparation', 'conjugated', 'linoleic', 'triglyceride', 'safflower', 'corn', 'syrup', 'solid', 'dipotassium', 'phosphate', 'mixed', 'tocopherol', 'green', 'tea', 'camellia', 'sinensis', 'choline', 'bitartrate', 'digezyme', 'enzyme', 'complex', '01', 'alphaamylase', 'micellar', 'casein', 'fermentation', '89', 'beetroot', 'red', 'partially', 'spent', 'barley', 'rice', 'calcium', 'caseinate', 'egg', 'white', 'bovine', 'collagen', 'peptide', 'canola', '80', 'raspberry', 'blood', 'orange', '201', 'lcarnitine', 'tartrate', 'carotene', 'c', 'bioperine', 'black', 'pepper', 'piper', 'nigrum', 'chromium', 'picolinate', 'allergen', 'see', 'bold', 'vanilla', 'flavour', 'skimmed', '41', 'dietary', 'refined', 'coconut', 'soybean', 'soy', 'triphosphates', 'fatty', 'ester', 'ascorbic', 'anti', 'caking', 'potassium', 'citrate', 'di', 'chloride', 'mineral', 'premix', 'iron', 'e', 'zinc', 'fluoride', 'manganese', 'b2', 'b1', 'copper', 'iodine', 'k', 'selenium', 'molybdenum', 'magnesium', 'oxide', 'strawberry', 'salted', 'e150c', 'banana', 'curcumin', 'chocolate', 'smooth', '81', 'electrolyte', 'sodium', 'sulphate', 'spirulina', 'carbohydrate', '52', 'potato', '31', 'mct', 'medium', 'chain', 'palm', 'kernel', 'creatine', 'monohydrate', 'apple', 'acesulfame', 'mix', 'ferrous', 'fumarate', 'iodide', 'd3', '62', '87', 'carbonate', 'hydrolsate', 'glucomannan', 'konjac', 'matcha', 'l', 'maltooligosaccharide', 'monoand', 'diglycerides', 'cinnamon', 'thickening', 'b5', 'produced', 'facility', 'also', 'handle', 'coffee', '94', 'fatreduced', 'unflavoured', '50', '32', 'dextrose', 'creapure', 'betahydroxybetamethylbutyrate', 'hmb', '71', 'leanbiome', 'fructooligosaccharides', 'avocado', 'mango', 'passionfruit', '3', '25', 'no', 'doesnt', 'not'])\n"
          ]
        }
      ]
    },
    {
      "cell_type": "markdown",
      "source": [
        "**This section finds the top 15 words.**"
      ],
      "metadata": {
        "id": "rImW-3qTxbzX"
      }
    },
    {
      "cell_type": "code",
      "source": [
        "NUM_COMMON_WORDS = 15\n",
        "\n",
        "copy_of_invertedIndex = invertedIndex.copy()\n",
        "\n",
        "list_of_most_common_words = []\n",
        "maxValue = 0\n",
        "maxWord = \"\"\n",
        "\n",
        "for i in range(NUM_COMMON_WORDS):\n",
        "  for word in copy_of_invertedIndex.keys():\n",
        "    if len(copy_of_invertedIndex[word]) > maxValue:\n",
        "      maxValue = len(copy_of_invertedIndex[word])\n",
        "      maxWord = word\n",
        "  list_of_most_common_words.append((maxWord, maxValue))\n",
        "  printWordAndCount = \"\\\"\" + maxWord + \"\\\"\" + \" appears \" + str(maxValue) + \" times.\"\n",
        "  print(printWordAndCount)\n",
        "  copy_of_invertedIndex.pop(maxWord)\n",
        "  maxValue = 0\n",
        "  maxWord = \"\""
      ],
      "metadata": {
        "colab": {
          "base_uri": "https://localhost:8080/"
        },
        "id": "EVd9IesWJDtt",
        "outputId": "a425780a-a105-4aad-a573-74a69cc90e59"
      },
      "execution_count": null,
      "outputs": [
        {
          "output_type": "stream",
          "name": "stdout",
          "text": [
            "\"vitamin\" appears 78 times.\n",
            "\"protein\" appears 70 times.\n",
            "\"milk\" appears 59 times.\n",
            "\"acid\" appears 52 times.\n",
            "\"powder\" appears 49 times.\n",
            "\"flavouring\" appears 44 times.\n",
            "\"whey\" appears 34 times.\n",
            "\"sweetener\" appears 33 times.\n",
            "\"sucralose\" appears 33 times.\n",
            "\"ingredient\" appears 30 times.\n",
            "\"lecithin\" appears 29 times.\n",
            "\"isolate\" appears 26 times.\n",
            "\"oil\" appears 26 times.\n",
            "\"sunflower\" appears 23 times.\n",
            "\"soy\" appears 23 times.\n"
          ]
        }
      ]
    },
    {
      "cell_type": "markdown",
      "source": [
        "**Take the 15 most common words and create the indexes for 30 documents. (We have used 30 documents instead of 20 because a lot of rows consisted of 0's only).**"
      ],
      "metadata": {
        "id": "zGrARQTJSCBE"
      }
    },
    {
      "cell_type": "code",
      "source": [
        "print(list_of_most_common_words)\n",
        "print(ingredients_array[0])"
      ],
      "metadata": {
        "colab": {
          "base_uri": "https://localhost:8080/"
        },
        "id": "9EMIDC1dFXi8",
        "outputId": "5a4907a9-6279-4e55-ce34-986a68645411"
      },
      "execution_count": null,
      "outputs": [
        {
          "output_type": "stream",
          "name": "stdout",
          "text": [
            "[('vitamin', 78), ('protein', 70), ('milk', 59), ('acid', 52), ('powder', 49), ('flavouring', 44), ('whey', 34), ('sweetener', 33), ('sucralose', 33), ('ingredient', 30), ('lecithin', 29), ('isolate', 26), ('oil', 26), ('sunflower', 23), ('soy', 23)]\n",
            "Ingredients: Whey Protein Concentrate (Milk) (100%) (contains Emulsifiers (Soya Lecithin, Sunflower Lecithin)).\n"
          ]
        }
      ]
    },
    {
      "cell_type": "code",
      "source": [
        "# Take 30 retrieved texts from different products\n",
        "print(len(ingredients_array))\n",
        "word_vector_list = []\n",
        "\n",
        "for word in list_of_most_common_words:\n",
        "  word_vector = []\n",
        "  for i in range(len(ingredients_array)):\n",
        "    word_vector.append(ingredients_array[i].lower().count(word[0]))\n",
        "\n",
        "  space_num = 12 - len(word[0])\n",
        "  space = \"\"\n",
        "  for i in range(space_num):\n",
        "    space += \" \"\n",
        "  print(word[0], space , \"=\", word_vector)\n",
        "  word_vector_list.append(word_vector)\n"
      ],
      "metadata": {
        "colab": {
          "base_uri": "https://localhost:8080/"
        },
        "id": "67QtDN8OSLQ1",
        "outputId": "0f588ac1-7d09-446f-9cd6-c34aabc879ea"
      },
      "execution_count": null,
      "outputs": [
        {
          "output_type": "stream",
          "name": "stdout",
          "text": [
            "30\n",
            "vitamin       = [0, 0, 0, 3, 0, 0, 0, 0, 0, 0, 0, 0, 0, 0, 0, 4, 50, 0, 3, 0, 6, 7, 0, 0, 0, 1, 0, 0, 0, 4]\n",
            "protein       = [1, 1, 1, 1, 1, 3, 1, 3, 4, 5, 0, 1, 1, 5, 0, 1, 15, 0, 1, 1, 1, 2, 1, 2, 2, 5, 6, 3, 1, 1]\n",
            "milk          = [1, 1, 1, 0, 0, 0, 0, 2, 4, 4, 1, 1, 0, 6, 0, 1, 20, 0, 0, 1, 1, 2, 1, 4, 0, 4, 1, 2, 1, 0]\n",
            "acid          = [0, 0, 4, 4, 0, 0, 0, 0, 0, 1, 0, 0, 0, 0, 0, 2, 20, 0, 4, 4, 6, 3, 0, 0, 1, 4, 0, 0, 0, 4]\n",
            "powder        = [0, 1, 0, 1, 0, 1, 0, 1, 0, 2, 0, 0, 0, 2, 1, 2, 22, 0, 1, 0, 1, 2, 0, 2, 1, 2, 1, 1, 3, 2]\n",
            "flavouring    = [0, 1, 1, 1, 0, 2, 3, 1, 2, 1, 0, 3, 3, 1, 1, 1, 5, 0, 1, 1, 1, 1, 0, 1, 2, 3, 5, 1, 1, 1]\n",
            "whey          = [1, 1, 1, 0, 0, 0, 0, 1, 3, 2, 0, 1, 0, 3, 0, 1, 10, 0, 0, 1, 1, 1, 1, 0, 0, 3, 0, 2, 1, 0]\n",
            "sweetener     = [0, 1, 1, 1, 0, 1, 1, 1, 1, 1, 0, 1, 1, 1, 1, 1, 5, 0, 1, 1, 1, 1, 0, 1, 1, 1, 5, 1, 1, 1]\n",
            "sucralose     = [0, 1, 1, 1, 0, 1, 1, 1, 1, 1, 0, 1, 1, 1, 1, 1, 5, 0, 1, 1, 1, 1, 0, 1, 1, 1, 5, 1, 1, 1]\n",
            "ingredient    = [1, 1, 1, 1, 1, 1, 1, 1, 1, 1, 1, 1, 1, 1, 1, 1, 1, 1, 1, 1, 1, 1, 1, 1, 1, 1, 1, 1, 1, 1]\n",
            "lecithin      = [2, 2, 0, 0, 0, 0, 0, 2, 2, 4, 0, 1, 0, 2, 0, 0, 5, 0, 0, 0, 0, 0, 1, 0, 0, 2, 0, 4, 2, 0]\n",
            "isolate       = [0, 1, 0, 0, 1, 2, 1, 0, 1, 1, 0, 1, 0, 1, 0, 1, 5, 0, 0, 0, 0, 0, 0, 0, 2, 2, 6, 1, 0, 0]\n",
            "oil           = [0, 0, 0, 1, 0, 2, 2, 0, 0, 1, 0, 2, 1, 0, 0, 1, 10, 0, 1, 0, 0, 2, 0, 0, 2, 0, 0, 0, 1, 0]\n",
            "sunflower     = [1, 1, 0, 0, 0, 2, 2, 1, 1, 2, 0, 3, 2, 1, 0, 0, 0, 0, 0, 0, 0, 0, 1, 0, 2, 1, 0, 2, 1, 0]\n",
            "soy           = [1, 1, 0, 0, 1, 0, 0, 1, 1, 2, 0, 0, 0, 1, 0, 0, 20, 0, 0, 0, 0, 0, 0, 0, 0, 2, 6, 2, 1, 1]\n"
          ]
        }
      ]
    },
    {
      "cell_type": "markdown",
      "source": [
        "# **Save data vectors in a google sheets file**"
      ],
      "metadata": {
        "id": "zcaEKhXSZgQe"
      }
    },
    {
      "cell_type": "markdown",
      "source": [
        "Create a new google sheets file in your google drive.\n",
        "Define the sheet_id variable to be the unique key, located in your google drive address.\n",
        "\n",
        "See the image below:\n",
        "\n",
        "![image_2024-07-24_183526357.png](data:image/png;base64,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)"
      ],
      "metadata": {
        "id": "7QBEEjx6YKkK"
      }
    },
    {
      "cell_type": "code",
      "source": [
        "# Your unique sheet_id\n",
        "sheet_id = \"1qQnpFjCVNhV5qzZt2tZOkw3QCKtpw7MXxiG17YgeIao\"\n",
        "worksheet_name = \"Sheet1\"\n",
        "\n",
        "import pandas as pd\n",
        "from google.colab import drive\n",
        "drive.mount(\"/content/drive\")\n",
        "from google.colab import auth\n",
        "auth.authenticate_user()\n",
        "import gspread\n",
        "from google.auth import default\n",
        "\n",
        "creds, _ = default()\n",
        "gc = gspread.authorize(creds)\n",
        "sh = gc.open_by_key(sheet_id)\n",
        "\n",
        "sh.worksheets()\n",
        "worksheet = sh.worksheet(worksheet_name)\n",
        "worksheet.get_all_records()\n",
        "\n",
        "df = pd.DataFrame(worksheet.get_all_records())\n",
        "\n"
      ],
      "metadata": {
        "id": "IB3AZO_Mwjap",
        "colab": {
          "base_uri": "https://localhost:8080/"
        },
        "outputId": "d0fceb38-5331-48e4-f2e4-0c1b9f182aa9"
      },
      "execution_count": null,
      "outputs": [
        {
          "output_type": "stream",
          "name": "stdout",
          "text": [
            "Mounted at /content/drive\n"
          ]
        }
      ]
    },
    {
      "cell_type": "markdown",
      "source": [
        "How the Inverted Index looks like"
      ],
      "metadata": {
        "id": "ERJPLoHtl8Dt"
      }
    },
    {
      "cell_type": "code",
      "source": [
        "#for i, ing in enumerate(ingredients_array):\n",
        "#  df.at[i, 'Product_Name'] = product_names[i]\n",
        "#  df.at[i, 'Product_Description'] = details_array_new[i]\n",
        "#  df.at[i, 'Ingredients'] = ing\n",
        "\n",
        "\n",
        "docName = \"\"\n",
        "for i, word in enumerate(list_of_most_common_words):\n",
        "  df.at[i, 'Word'] = word[0]\n",
        "  for j in range(len(ingredients_array)):\n",
        "    docName = \"Doc\" + str(j)\n",
        "    df.at[i, docName] = word_vector_list[i][j]\n",
        "\n",
        "print(df.to_string())\n",
        "\n",
        "worksheet.update([df.columns.values.tolist()] + df.values.tolist())"
      ],
      "metadata": {
        "colab": {
          "base_uri": "https://localhost:8080/"
        },
        "id": "Z-aS_EC6ZolM",
        "outputId": "8c18b31d-2376-422f-e819-679d7e3ef965"
      },
      "execution_count": null,
      "outputs": [
        {
          "output_type": "stream",
          "name": "stdout",
          "text": [
            "          Word  Doc0  Doc1  Doc2  Doc3  Doc4  Doc5  Doc6  Doc7  Doc8  Doc9  Doc10  Doc11  Doc12  Doc13  Doc14  Doc15  Doc16  Doc17  Doc18  Doc19  Doc20  Doc21  Doc22  Doc23  Doc24  Doc25  Doc26  Doc27  Doc28  Doc29\n",
            "0      vitamin     0     0     0     3     0     0     0     0     0     0      0      0      0      0      0      4     50      0      3      0      6      7      0      0      0      1      0      0      0      4\n",
            "1      protein     1     1     1     1     1     3     1     3     4     5      0      1      1      5      0      1     15      0      1      1      1      2      1      2      2      5      6      3      1      1\n",
            "2         milk     1     1     1     0     0     0     0     2     4     4      1      1      0      6      0      1     20      0      0      1      1      2      1      4      0      4      1      2      1      0\n",
            "3         acid     0     0     4     4     0     0     0     0     0     1      0      0      0      0      0      2     20      0      4      4      6      3      0      0      1      4      0      0      0      4\n",
            "4       powder     0     1     0     1     0     1     0     1     0     2      0      0      0      2      1      2     22      0      1      0      1      2      0      2      1      2      1      1      3      2\n",
            "5   flavouring     0     1     1     1     0     2     3     1     2     1      0      3      3      1      1      1      5      0      1      1      1      1      0      1      2      3      5      1      1      1\n",
            "6         whey     1     1     1     0     0     0     0     1     3     2      0      1      0      3      0      1     10      0      0      1      1      1      1      0      0      3      0      2      1      0\n",
            "7    sweetener     0     1     1     1     0     1     1     1     1     1      0      1      1      1      1      1      5      0      1      1      1      1      0      1      1      1      5      1      1      1\n",
            "8    sucralose     0     1     1     1     0     1     1     1     1     1      0      1      1      1      1      1      5      0      1      1      1      1      0      1      1      1      5      1      1      1\n",
            "9   ingredient     1     1     1     1     1     1     1     1     1     1      1      1      1      1      1      1      1      1      1      1      1      1      1      1      1      1      1      1      1      1\n",
            "10    lecithin     2     2     0     0     0     0     0     2     2     4      0      1      0      2      0      0      5      0      0      0      0      0      1      0      0      2      0      4      2      0\n",
            "11     isolate     0     1     0     0     1     2     1     0     1     1      0      1      0      1      0      1      5      0      0      0      0      0      0      0      2      2      6      1      0      0\n",
            "12         oil     0     0     0     1     0     2     2     0     0     1      0      2      1      0      0      1     10      0      1      0      0      2      0      0      2      0      0      0      1      0\n",
            "13   sunflower     1     1     0     0     0     2     2     1     1     2      0      3      2      1      0      0      0      0      0      0      0      0      1      0      2      1      0      2      1      0\n",
            "14         soy     1     1     0     0     1     0     0     1     1     2      0      0      0      1      0      0     20      0      0      0      0      0      0      0      0      2      6      2      1      1\n"
          ]
        },
        {
          "output_type": "execute_result",
          "data": {
            "text/plain": [
              "{'spreadsheetId': '1qQnpFjCVNhV5qzZt2tZOkw3QCKtpw7MXxiG17YgeIao',\n",
              " 'updatedRange': 'Sheet1!A1:AE16',\n",
              " 'updatedRows': 16,\n",
              " 'updatedColumns': 31,\n",
              " 'updatedCells': 496}"
            ]
          },
          "metadata": {},
          "execution_count": 16
        }
      ]
    },
    {
      "cell_type": "markdown",
      "source": [
        "Calculate tf, idf, tf-idf"
      ],
      "metadata": {
        "id": "psBaCuifimNW"
      }
    },
    {
      "cell_type": "code",
      "source": [
        "from math import log10"
      ],
      "metadata": {
        "id": "0DLnNEywmUcV"
      },
      "execution_count": null,
      "outputs": []
    },
    {
      "cell_type": "code",
      "source": [
        "num_of_documents = 30\n",
        "num_of_terms = 15"
      ],
      "metadata": {
        "id": "ozpx1ufGmV8N"
      },
      "execution_count": null,
      "outputs": []
    },
    {
      "cell_type": "code",
      "source": [
        "terms_list = []\n",
        "for i in range(num_of_terms):\n",
        "  terms_list.append(list_of_most_common_words[i][0])"
      ],
      "metadata": {
        "id": "4A50iEf1mdeP"
      },
      "execution_count": null,
      "outputs": []
    },
    {
      "cell_type": "code",
      "source": [
        "# tf(t, d) = count of t in docs\n",
        "def tf():\n",
        "  tf_dict = {}\n",
        "  term_cnt_in_doc = []\n",
        "  total_num_of_terms_in_docs = 0\n",
        "\n",
        "  for i in range(num_of_terms):\n",
        "    term_cnt_in_doc.append(sum(word_vector_list[i]))\n",
        "    tf_dict[terms_list[i]] = term_cnt_in_doc[i]\n",
        "  return tf_dict"
      ],
      "metadata": {
        "id": "fKOV0YVPmejo"
      },
      "execution_count": null,
      "outputs": []
    },
    {
      "cell_type": "code",
      "source": [
        "print(tf())"
      ],
      "metadata": {
        "colab": {
          "base_uri": "https://localhost:8080/"
        },
        "id": "FMJtYOm1mgMd",
        "outputId": "e0451610-1e8e-484b-dec5-900e7f8f7144"
      },
      "execution_count": null,
      "outputs": [
        {
          "output_type": "stream",
          "name": "stdout",
          "text": [
            "{'vitamin': 78, 'protein': 70, 'milk': 59, 'acid': 57, 'powder': 49, 'flavouring': 44, 'whey': 34, 'sweetener': 33, 'sucralose': 33, 'ingredient': 30, 'lecithin': 29, 'isolate': 26, 'oil': 26, 'sunflower': 23, 'soy': 40}\n"
          ]
        }
      ]
    },
    {
      "cell_type": "code",
      "source": [
        "# df(t) = occurrence of t in documents\n",
        "def df():\n",
        "  df_dict = {}\n",
        "  for i in range(num_of_terms):\n",
        "    zero_one = [1 if num != 0 else 0 for num in word_vector_list[i]]\n",
        "    df_dict[terms_list[i]] = sum(zero_one)\n",
        "  return df_dict"
      ],
      "metadata": {
        "id": "T6ivwHLxmhJN"
      },
      "execution_count": null,
      "outputs": []
    },
    {
      "cell_type": "code",
      "source": [
        "print(df())"
      ],
      "metadata": {
        "colab": {
          "base_uri": "https://localhost:8080/"
        },
        "id": "oaIWvSYbmho8",
        "outputId": "4e0cf4b8-9043-49bb-d7e2-1fb6753cea39"
      },
      "execution_count": null,
      "outputs": [
        {
          "output_type": "stream",
          "name": "stdout",
          "text": [
            "{'vitamin': 8, 'protein': 27, 'milk': 20, 'acid': 12, 'powder': 19, 'flavouring': 25, 'whey': 17, 'sweetener': 25, 'sucralose': 25, 'ingredient': 30, 'lecithin': 12, 'isolate': 14, 'oil': 12, 'sunflower': 15, 'soy': 13}\n"
          ]
        }
      ]
    },
    {
      "cell_type": "code",
      "source": [
        "# idf(t) = log(N/df(t)) (N - total number of documents)\n",
        "def idf(df_dict):\n",
        "  idf_dict = {}\n",
        "  for term, value in df_dict.items():\n",
        "    if df_dict[term] == 0:\n",
        "      idf_dict[term] = 0\n",
        "      continue\n",
        "    idf_dict[term] = log10(num_of_documents / df_dict[term])\n",
        "  return idf_dict"
      ],
      "metadata": {
        "id": "H-8nW19tmi2C"
      },
      "execution_count": null,
      "outputs": []
    },
    {
      "cell_type": "code",
      "source": [
        "print(idf(df()))"
      ],
      "metadata": {
        "colab": {
          "base_uri": "https://localhost:8080/"
        },
        "id": "-B_LnOIGmj0l",
        "outputId": "01b05050-ee42-4f17-ec2c-99eb4d0b97fc"
      },
      "execution_count": null,
      "outputs": [
        {
          "output_type": "stream",
          "name": "stdout",
          "text": [
            "{'vitamin': 0.5740312677277188, 'protein': 0.04575749056067514, 'milk': 0.17609125905568124, 'acid': 0.3979400086720376, 'powder': 0.19836765376683346, 'flavouring': 0.07918124604762482, 'whey': 0.2466723333413885, 'sweetener': 0.07918124604762482, 'sucralose': 0.07918124604762482, 'ingredient': 0.0, 'lecithin': 0.3979400086720376, 'isolate': 0.3309932190414244, 'oil': 0.3979400086720376, 'sunflower': 0.3010299956639812, 'soy': 0.36317790241282566}\n"
          ]
        }
      ]
    },
    {
      "cell_type": "code",
      "source": [
        "# tf-idf(t, d) = (1+log10(tf(t, d)) * idf(t)\n",
        "def tf_idf(tf,idf):\n",
        "  tf_idf_dict = {}\n",
        "  for term in tf.keys():\n",
        "    if tf[term] == 0:\n",
        "      tf_idf_dict[term] = 0\n",
        "      continue\n",
        "    tf_idf_dict[term] = (1 + log10(tf[term])) * idf[term]\n",
        "  return tf_idf_dict"
      ],
      "metadata": {
        "id": "LhbktOC4mlYv"
      },
      "execution_count": null,
      "outputs": []
    },
    {
      "cell_type": "code",
      "source": [
        "print(tf_idf(tf(),idf(df())))"
      ],
      "metadata": {
        "colab": {
          "base_uri": "https://localhost:8080/"
        },
        "id": "C_KX0jaomms1",
        "outputId": "5189af47-d9f3-40d1-f7d4-82747350f425"
      },
      "execution_count": null,
      "outputs": [
        {
          "output_type": "stream",
          "name": "stdout",
          "text": [
            "{'vitamin': 1.66015273117091, 'protein': 0.1301845467101477, 'milk': 0.4879228193870323, 'acid': 1.0966728639653616, 'powder': 0.5336478845679888, 'flavouring': 0.20931187679210517, 'whey': 0.6244458112713444, 'sweetener': 0.199419071947844, 'sucralose': 0.199419071947844, 'ingredient': 0.0, 'lecithin': 0.9798866806379186, 'isolate': 0.7993398023441071, 'oil': 0.9610145150342471, 'sunflower': 0.7109509202358797, 'soy': 0.9450106896028247}\n"
          ]
        }
      ]
    },
    {
      "cell_type": "markdown",
      "source": [
        "# Section 2\n",
        "This section handles the queries. A user will write a query to find items containing or not containing ingredients."
      ],
      "metadata": {
        "id": "VSKvQ-xIwZh4"
      }
    },
    {
      "cell_type": "code",
      "source": [
        "# Function to remove words from a query that do not appear in our dictionary.\n",
        "def filter_query(query, useBasicFilter):\n",
        "  if useBasicFilter:\n",
        "    return basicFilter(query)\n",
        "  else:\n",
        "    return advancedFilter(query)\n",
        "\n",
        "def advancedFilter(query):\n",
        "  pass\n",
        "\n",
        "def basicFilter(query):\n",
        "  \"\"\"\n",
        "  Args:\n",
        "    string\\list: query\n",
        "  Returns:\n",
        "    list of words in the query that appear in our dictionary\n",
        "  \"\"\"\n",
        "\n",
        "  # Convert query string to list\n",
        "  if (type(query) == str):\n",
        "    query = query.lower()\n",
        "    query = query.split()\n",
        "\n",
        "  # Remove all words such as \"find\", \"return\", \"contains\", \"product\", \"ingredient\"\n",
        "  negative_words = [\"no\", \"not\", \"none\", \"doesnt\", \"without\"]\n",
        "\n",
        "  # Remove all words such as \"no\", \"not\", \"none\", \"doesnt\", add ! to the next ingredient in the list\n",
        "  # Example:\n",
        "  \"\"\"\n",
        "    query: \"No milk no sucralose no sugar whey\"\n",
        "    query after the for loop: [\"!milk\", \"!sucralose\", \"!sugar\", \"whey\"]\n",
        "\n",
        "  \"\"\"\n",
        "  for i, word in enumerate(query):\n",
        "    if (word in negative_words):\n",
        "      if (i+1 < len(query)):\n",
        "        string_to_replace = \"!\" + query[i+1]\n",
        "        query[i+1] = string_to_replace\n",
        "        query.remove(word)\n",
        "\n",
        "  # Remove all words not found in our dictionary\n",
        "  return_q = []\n",
        "  for word in query:\n",
        "    if word[0] != \"!\":\n",
        "      return_q.append(word) if word in invertedIndex.keys() else None\n",
        "    elif word[1:] in invertedIndex.keys() and word[0] == '!':\n",
        "      return_q.append(word)\n",
        "\n",
        "  return return_q"
      ],
      "metadata": {
        "id": "zRCYE8kR5TlK"
      },
      "execution_count": null,
      "outputs": []
    },
    {
      "cell_type": "code",
      "source": [
        "# Example\n",
        "query = \"milk sugar sucralose whey dark choclate\"\n",
        "\n",
        "# Preprocess the user's query\n",
        "query_words_list = preprocess_text(query)\n",
        "\n",
        "print(\"Query before filtration: \", query_words_list)\n",
        "\n",
        "query_words_list = filter_query(query_words_list, True)\n",
        "\n",
        "print(\"Query after filtration: \", query_words_list)\n",
        "# This query no\n",
        "print(\"Query to perform is: \", query_words_list)"
      ],
      "metadata": {
        "colab": {
          "base_uri": "https://localhost:8080/"
        },
        "id": "9Kh-QU1Wwxil",
        "outputId": "4a25be35-44c4-4398-fbf9-5cb30b1c7b63"
      },
      "execution_count": null,
      "outputs": [
        {
          "output_type": "stream",
          "name": "stdout",
          "text": [
            "Query before filtration:  ['milk', 'sugar', 'sucralose', 'whey', 'dark', 'choclate']\n",
            "Query after filtration:  ['milk', 'sucralose', 'whey']\n",
            "Query to perform is:  ['milk', 'sucralose', 'whey']\n"
          ]
        }
      ]
    },
    {
      "cell_type": "code",
      "source": [
        "# Example: query should be of the format \"ingredient ingredient ingredient no ingredient.....\"\n",
        "# Note that if a word doesn't exist in our dictionary, then it gets removed from the query\n",
        "query2 = \"milk sugar no whey no lecithin papaya\"\n",
        "\n",
        "print(\"Query before filtration: \", query2)\n",
        "\n",
        "query_words_list2 = filter_query(query2, True)\n",
        "\n",
        "print(\"Query after filtration: \", query2)\n",
        "# This query no\n",
        "print(\"Query to perform is: \", query_words_list2)"
      ],
      "metadata": {
        "colab": {
          "base_uri": "https://localhost:8080/"
        },
        "id": "u3Bp5jqLy8Rx",
        "outputId": "2666ef4d-50b1-4901-bc8e-4f4cfe7f628b"
      },
      "execution_count": null,
      "outputs": [
        {
          "output_type": "stream",
          "name": "stdout",
          "text": [
            "Query before filtration:  milk sugar no whey no lecithin papaya\n",
            "Query after filtration:  milk sugar no whey no lecithin papaya\n",
            "Query to perform is:  ['milk', '!whey', '!lecithin']\n"
          ]
        }
      ]
    },
    {
      "cell_type": "code",
      "source": [
        "print(preprocess_text(ingredients_array[0]))"
      ],
      "metadata": {
        "id": "PAJ2R0vCzmu0",
        "colab": {
          "base_uri": "https://localhost:8080/"
        },
        "outputId": "fccb70d6-d88a-4fd9-9592-55c7b1b952c4"
      },
      "execution_count": null,
      "outputs": [
        {
          "output_type": "stream",
          "name": "stdout",
          "text": [
            "['ingredient', 'whey', 'protein', 'concentrate', 'milk', '100', 'contains', 'emulsifier', 'soya', 'lecithin', 'sunflower', 'lecithin']\n"
          ]
        }
      ]
    },
    {
      "cell_type": "markdown",
      "source": [
        "\n",
        "\n",
        "# Sectio 3: The Search Begins ☕"
      ],
      "metadata": {
        "id": "2bdwmuGh85_V"
      }
    },
    {
      "cell_type": "code",
      "source": [
        "list_of_most_common_only_words = []\n",
        "for word in list_of_most_common_words:\n",
        "  list_of_most_common_only_words.append(word[0])"
      ],
      "metadata": {
        "id": "Bv2qQ0ye88gw"
      },
      "execution_count": null,
      "outputs": []
    },
    {
      "cell_type": "markdown",
      "source": [
        "Find the top most relevant documents based on the query"
      ],
      "metadata": {
        "id": "CbhOkGegmPkO"
      }
    },
    {
      "cell_type": "code",
      "source": [
        "import copy\n",
        "def find_top_10(q):\n",
        "    q_list_filtered = filter_query(q, True)\n",
        "    temp_word_vector_list = copy.deepcopy(word_vector_list)\n",
        "    in_case_of_less_then_ten = copy.deepcopy(word_vector_list)\n",
        "    top_values = []\n",
        "\n",
        "    for q in q_list_filtered:\n",
        "      if q[0] == '!' and q[1:] in list_of_most_common_only_words:\n",
        "          index = list_of_most_common_only_words.index(q[1:])\n",
        "          for j in range(30):\n",
        "            if max(temp_word_vector_list[index]) == 0:\n",
        "              break\n",
        "            most_appearances = pd.Series(temp_word_vector_list[index]).idxmax()\n",
        "            temp_word_vector_list[index][most_appearances] = 0\n",
        "            for x in range(15):\n",
        "              temp_word_vector_list[x][most_appearances] = 0\n",
        "\n",
        "    word_inx = []\n",
        "    for q in q_list_filtered:\n",
        "      if q in list_of_most_common_only_words:\n",
        "          index = list_of_most_common_only_words.index(q)\n",
        "          word_inx.append(index)\n",
        "\n",
        "    search_vector = np.empty(30)\n",
        "    for z in word_inx:\n",
        "      search_vector += temp_word_vector_list[z]\n",
        "    search_vector = search_vector.tolist()\n",
        "\n",
        "    for i in range(30):\n",
        "      if max(search_vector) <= 0:\n",
        "        break\n",
        "      most_appearances = max(search_vector)\n",
        "      max_value_index = search_vector.index(most_appearances)\n",
        "      top_values.append(max_value_index)\n",
        "      search_vector[max_value_index] = 0\n",
        "\n",
        "\n",
        "    if len(top_values) < 10:\n",
        "      search_vector_2 = np.empty(30)\n",
        "      for z in word_inx:\n",
        "        search_vector_2 += in_case_of_less_then_ten[z]\n",
        "      search_vector_2 = search_vector_2.tolist()\n",
        "\n",
        "      for i in range(30):\n",
        "        if max(search_vector_2) <= 0:\n",
        "          break\n",
        "        most_appearances = max(search_vector_2)\n",
        "        max_value_index = search_vector_2.index(most_appearances)\n",
        "        if max_value_index in top_values:\n",
        "          search_vector_2[max_value_index] = 0\n",
        "          continue\n",
        "        top_values.append(max_value_index)\n",
        "        search_vector_2[max_value_index] = 0\n",
        "        if len(top_values) == 10:\n",
        "          break\n",
        "\n",
        "\n",
        "\n",
        "    return top_values"
      ],
      "metadata": {
        "id": "iic4ZC5T892n"
      },
      "execution_count": null,
      "outputs": []
    },
    {
      "cell_type": "code",
      "source": [
        "most_relevant_docs = find_top_10(q)"
      ],
      "metadata": {
        "id": "KSU338Tl8_zN"
      },
      "execution_count": null,
      "outputs": []
    },
    {
      "cell_type": "markdown",
      "source": [
        "Returning links of products that best fit the query 🦾\n"
      ],
      "metadata": {
        "id": "4YDBqNtD9A0_"
      }
    },
    {
      "cell_type": "code",
      "source": [
        "\n",
        "def return_links(most_relevant_docs):\n",
        "  links_to_return = []\n",
        "  for most_relevant_doc in most_relevant_docs:\n",
        "    if len(links_to_return) == 10:\n",
        "      break\n",
        "    if links[most_relevant_doc] in links_to_return:\n",
        "      continue\n",
        "    else:\n",
        "      links_to_return.append(links[most_relevant_doc])\n",
        "      print(links[most_relevant_doc])\n",
        "  return links_to_return\n",
        "\n"
      ],
      "metadata": {
        "id": "9RcHxAJ99Dja"
      },
      "execution_count": null,
      "outputs": []
    },
    {
      "cell_type": "code",
      "source": [
        "print(return_links(most_relevant_docs))"
      ],
      "metadata": {
        "colab": {
          "base_uri": "https://localhost:8080/"
        },
        "id": "2dtOBOdZ-1cm",
        "outputId": "55065e4d-e34a-4f6a-c558-7c7263dfc9d5"
      },
      "execution_count": null,
      "outputs": [
        {
          "output_type": "stream",
          "name": "stdout",
          "text": [
            "['https://www.myprotein.co.il/sports-nutrition/impact-casein-powder/10798909.html', 'https://www.myprotein.co.il/sports-nutrition/clear-soy-protein/12853864.html', 'https://www.myprotein.co.il/sports-nutrition/protein-meal-replacement-blend/11324199.html', 'https://www.myprotein.co.il/sports-nutrition/total-protein-blend/10529951.html', 'https://www.myprotein.co.il/sports-nutrition/the-whey/11353515.html', 'https://www.myprotein.co.il/sports-nutrition/impact-diet-whey/10530657.html', 'https://www.myprotein.co.il/sports-nutrition/protein-hot-chocolate/10926373.html', 'https://www.myprotein.co.il/sports-nutrition/the-diet/11350864.html', 'https://www.myprotein.co.il/sports-nutrition/impact-weight-gainer/10529988.html']\n"
          ]
        }
      ]
    },
    {
      "cell_type": "markdown",
      "source": [
        "**Example 1:** We want a protein product without soy and without cocoa powder\n",
        "Calculations are made in the docx file. (Question 3, section 3).\n",
        "First participant in the query relevance test: Yuval a."
      ],
      "metadata": {
        "id": "UeJV7gRjmWPU"
      }
    },
    {
      "cell_type": "code",
      "source": [
        "query_test_1 = \"I would like a protein product but not soy and no cocoa\"\n",
        "most_relevant_docs_test_1 = find_top_10(query_test_1)\n",
        "nothing = return_links(most_relevant_docs_test_1)"
      ],
      "metadata": {
        "id": "yGmjDdaq_fD-",
        "colab": {
          "base_uri": "https://localhost:8080/"
        },
        "outputId": "f2801afd-a735-4ca0-930e-f80b02e1c5ea"
      },
      "execution_count": null,
      "outputs": [
        {
          "output_type": "stream",
          "name": "stdout",
          "text": [
            "https://www.myprotein.co.il/sports-nutrition/vegan-protein-blend/11776868.html\n",
            "https://www.myprotein.co.il/sports-nutrition/clear-weight-gainer/13096868.html\n",
            "https://www.myprotein.co.il/sports-nutrition/protein-hot-chocolate/10926373.html\n",
            "https://www.myprotein.co.il/sports-nutrition/vegan-protein-blend-sample/11332873.html\n",
            "https://www.myprotein.co.il/sports-nutrition/clear-whey-protein-powder/12081395.html\n",
            "https://www.myprotein.co.il/sports-nutrition/clear-vegan-protein/12360400.html\n",
            "https://www.myprotein.co.il/sports-nutrition/pea-protein-isolate/10530136.html\n",
            "https://www.myprotein.co.il/sports-nutrition/whey-forward-isolate/14960829.html\n",
            "https://www.myprotein.co.il/sports-nutrition/plant-protein-superblend/13972449.html\n",
            "https://www.myprotein.co.il/sports-nutrition/clear-whey-diet/13125562.html\n"
          ]
        }
      ]
    },
    {
      "cell_type": "markdown",
      "source": [
        "**Example 2:** We want a protein powder specifically, without oil and without soy.\n",
        "Calculations are made in the docx file. (Question 3, section 3).\n",
        "Second participant in the query relevance test: Genrih Atayan."
      ],
      "metadata": {
        "id": "3mPxb6AHm3Tr"
      }
    },
    {
      "cell_type": "code",
      "source": [
        "query_test_2 = \"I want a protein powder with no oil and no soy\"\n",
        "most_relevant_docs_test_2 = find_top_10(query_test_2)\n",
        "\n",
        "nothing = return_links(most_relevant_docs_test_2)"
      ],
      "metadata": {
        "colab": {
          "base_uri": "https://localhost:8080/"
        },
        "id": "96nN9dwHOZ2L",
        "outputId": "b2b6f08a-51a9-40a5-8149-e405ea71b60c"
      },
      "execution_count": null,
      "outputs": [
        {
          "output_type": "stream",
          "name": "stdout",
          "text": [
            "https://www.myprotein.co.il/sports-nutrition/protein-hot-chocolate/10926373.html\n",
            "https://www.myprotein.co.il/sports-nutrition/clear-whey-hydrate/12869895.html\n",
            "https://www.myprotein.co.il/sports-nutrition/clear-whey-protein-powder/12081395.html\n",
            "https://www.myprotein.co.il/sports-nutrition/collagen-protein-powder/11067704.html\n",
            "https://www.myprotein.co.il/sports-nutrition/clear-whey-protein-sample/12081401.html\n",
            "https://www.myprotein.co.il/sports-nutrition/hydrolysed-whey-protein-powder/10529805.html\n",
            "https://www.myprotein.co.il/sports-nutrition/clear-soy-protein/12853864.html\n",
            "https://www.myprotein.co.il/sports-nutrition/protein-meal-replacement-blend/11324199.html\n",
            "https://www.myprotein.co.il/sports-nutrition/impact-diet-whey/10530657.html\n",
            "https://www.myprotein.co.il/sports-nutrition/total-protein-blend/10529951.html\n"
          ]
        }
      ]
    }
  ]
}