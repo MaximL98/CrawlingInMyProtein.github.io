{
  "nbformat": 4,
  "nbformat_minor": 0,
  "metadata": {
    "colab": {
      "provenance": [],
      "include_colab_link": true
    },
    "kernelspec": {
      "name": "python3",
      "display_name": "Python 3"
    },
    "language_info": {
      "name": "python"
    }
  },
  "cells": [
    {
      "cell_type": "markdown",
      "metadata": {
        "id": "view-in-github",
        "colab_type": "text"
      },
      "source": [
        "<a href=\"https://colab.research.google.com/github/MaximL98/CrawlingInMyProtein.github.io/blob/master/HW03/CrawlingInMP_HubAndAuthority_Calculations.ipynb\" target=\"_parent\"><img src=\"https://colab.research.google.com/assets/colab-badge.svg\" alt=\"Open In Colab\"/></a>"
      ]
    },
    {
      "cell_type": "markdown",
      "source": [
        "# Crawling in My Protein: by Crawling In My Skin™\n",
        "\n",
        "In this colab file, we will implement a basic crawler for HW2\n"
      ],
      "metadata": {
        "id": "gnRgF6WOjrAy"
      }
    },
    {
      "cell_type": "code",
      "execution_count": null,
      "metadata": {
        "id": "q9SKXBugKRzx"
      },
      "outputs": [],
      "source": [
        "# Imports\n",
        "import requests\n",
        "import numpy as np\n",
        "import pandas as pd\n",
        "from bs4 import BeautifulSoup"
      ]
    },
    {
      "cell_type": "markdown",
      "source": [
        "This is the website link we will scrape"
      ],
      "metadata": {
        "id": "LZPePItAj910"
      }
    },
    {
      "cell_type": "code",
      "source": [
        "mp_url = \"https://www.myprotein.co.il/nutrition/protein.list\"\n",
        "\n",
        "# Use requests to retrieve data from a given URL\n",
        "mp_response = requests.get(mp_url)\n",
        "\n",
        "# Parse the whole HTML page using BeautifulSoup\n",
        "mp_soup = BeautifulSoup(mp_response.text, 'html.parser')\n"
      ],
      "metadata": {
        "id": "tC55lry_N6BD"
      },
      "execution_count": null,
      "outputs": []
    },
    {
      "cell_type": "markdown",
      "source": [
        "**Traverse the page https://www.myprotein.co.il/nutrition/protein.list**\n",
        "\n",
        "For each item in that page, get the name of the product and it's link\n"
      ],
      "metadata": {
        "id": "OAqguD6UkVC2"
      }
    },
    {
      "cell_type": "code",
      "source": [
        "mp_main = 'https://www.myprotein.co.il'\n",
        "\n",
        "all_products = mp_soup.find('ul', {'class': 'productListProducts_products'})\n",
        "product_list = all_products.find('li', {'class': 'productListProducts_product'})\n",
        "\n",
        "# If the 'ul' element is found, proceed with extracting product information\n",
        "if all_products:\n",
        "  # These 'li' elements likely represent individual products\n",
        "  product_list = all_products.find_all('li')\n",
        "  # Initialize empty lists to store product links and names\n",
        "  links = []\n",
        "  product_names = []\n",
        "  # Loop through each product 'li' element\n",
        "  for li in product_list:\n",
        "    a_tag_array = li.findAll('a', {'class': 'productBlock_link'})\n",
        "    a_tag = a_tag_array[1]\n",
        "    # If the 'a' element exists, extract and store the product link\n",
        "    if a_tag:\n",
        "      links.append(mp_main + a_tag['href'])\n",
        "      h3_tag = a_tag.find('h3', {'class': 'productBlock_productName'})\n",
        "      # If the 'h3' element exists, extract and store the product name\n",
        "      if h3_tag:\n",
        "        # Remove any leading or trailing whitespace from the extracted product name\n",
        "        product_names.append(h3_tag.text.strip())\n",
        "print(product_names)\n",
        "print(links)"
      ],
      "metadata": {
        "colab": {
          "base_uri": "https://localhost:8080/"
        },
        "id": "iQTJCkp1RVQA",
        "outputId": "ea151858-4c8a-4096-a1ee-a77e022cbcc1",
        "collapsed": true
      },
      "execution_count": null,
      "outputs": [
        {
          "output_type": "stream",
          "name": "stdout",
          "text": [
            "['Impact Whey Protein Powder', 'Impact Whey Isolate Powder', 'Clear Whey Protein Powder', 'Clear Vegan Protein', 'Impact Vegan Protein', 'Impact Soy Protein', 'Impact Weight Gainer', 'Impact Pea Protein', 'Impact Diet Whey', 'Whey Forward Isolate', 'THE Whey', 'Impact Casein Powder', 'Plant Protein Superblend', 'Total Protein Blend', 'Collagen Protein Powder', 'Clear Whey Hydrate', 'Protein Meal Replacement Blend', 'Clear Whey Diet', 'Clear Collagen Protein Powder', 'Clear Vegan Protein (Sample)', 'Breakfast Smoothie', 'Clear Whey Protein (Sample)', 'Clear Weight Gainer', 'Protein Hot Chocolate', 'Hydrolysed Whey Protein Powder', 'THE Diet™', 'Vegan Protein Blend (Sample)', 'All-in-One Recovery', 'Clear Soy Protein', 'Soy Protein Isolate (Sample)']\n",
            "['https://www.myprotein.co.il/sports-nutrition/impact-whey-protein-powder/10530943.html', 'https://www.myprotein.co.il/sports-nutrition/impact-whey-isolate-powder/10530911.html', 'https://www.myprotein.co.il/sports-nutrition/clear-whey-protein-powder/12081395.html', 'https://www.myprotein.co.il/sports-nutrition/clear-vegan-protein/12360400.html', 'https://www.myprotein.co.il/sports-nutrition/vegan-protein-blend/11776868.html', 'https://www.myprotein.co.il/sports-nutrition/soy-protein-isolate/10529701.html', 'https://www.myprotein.co.il/sports-nutrition/impact-weight-gainer/10529988.html', 'https://www.myprotein.co.il/sports-nutrition/pea-protein-isolate/10530136.html', 'https://www.myprotein.co.il/sports-nutrition/impact-diet-whey/10530657.html', 'https://www.myprotein.co.il/sports-nutrition/whey-forward-isolate/14960829.html', 'https://www.myprotein.co.il/sports-nutrition/the-whey/11353515.html', 'https://www.myprotein.co.il/sports-nutrition/impact-casein-powder/10798909.html', 'https://www.myprotein.co.il/sports-nutrition/plant-protein-superblend/13972449.html', 'https://www.myprotein.co.il/sports-nutrition/total-protein-blend/10529951.html', 'https://www.myprotein.co.il/sports-nutrition/collagen-protein-powder/11067704.html', 'https://www.myprotein.co.il/sports-nutrition/clear-whey-hydrate/12869895.html', 'https://www.myprotein.co.il/sports-nutrition/protein-meal-replacement-blend/11324199.html', 'https://www.myprotein.co.il/sports-nutrition/clear-whey-diet/13125562.html', 'https://www.myprotein.co.il/sports-nutrition/clear-collagen-protein-powder/12865492.html', 'https://www.myprotein.co.il/sports-nutrition/clear-vegan-protein-sample/12360405.html', 'https://www.myprotein.co.il/sports-nutrition/breakfast-smoothie/13251950.html', 'https://www.myprotein.co.il/sports-nutrition/clear-whey-protein-sample/12081401.html', 'https://www.myprotein.co.il/sports-nutrition/clear-weight-gainer/13096868.html', 'https://www.myprotein.co.il/sports-nutrition/protein-hot-chocolate/10926373.html', 'https://www.myprotein.co.il/sports-nutrition/hydrolysed-whey-protein-powder/10529805.html', 'https://www.myprotein.co.il/sports-nutrition/the-diet/11350864.html', 'https://www.myprotein.co.il/sports-nutrition/vegan-protein-blend-sample/11332873.html', 'https://www.myprotein.co.il/sports-nutrition/all-in-one-recovery/10530268.html', 'https://www.myprotein.co.il/sports-nutrition/clear-soy-protein/12853864.html', 'https://www.myprotein.co.il/sports-nutrition/soy-protein-isolate-sample/11332868.html']\n"
          ]
        }
      ]
    },
    {
      "cell_type": "markdown",
      "source": [
        "For each item, find the div which contains the ingredients the product is made of."
      ],
      "metadata": {
        "id": "IQA4vyMEk9qd"
      }
    },
    {
      "cell_type": "code",
      "source": [
        "# This class represents a node in a network for the PageRank algorithm.\n",
        "class Node:\n",
        "  # Initializes a new Node object.\n",
        "  def __init__(self, id):\n",
        "    self.id = id\n",
        "    self.auth_score = 1 # Authority score (initially set to 1)\n",
        "    self.hub_score = 1  # Hub score (initially set to 1)\n",
        "    self.connected_to_me = [] # List of nodes that point to this node (incoming links)\n",
        "    self.connected_to_them = [] # List of nodes this node points to (outgoing links)\n",
        "    self.page_rank_score = 1 # PageRank score (initially set to 1)\n",
        "\n",
        "  def __str__(self):\n",
        "    \"\"\"\n",
        "    Returns a string representation of the node's ID.\n",
        "    \"\"\"\n",
        "    return str(self.id)\n",
        "\n",
        "  def get_id(self):\n",
        "    \"\"\"\n",
        "    Returns the node's ID.\n",
        "    \"\"\"\n",
        "    return self.id\n",
        "\n",
        "  def get_page_rank_score(self):\n",
        "    \"\"\"\n",
        "    Returns the node's current PageRank score.\n",
        "    \"\"\"\n",
        "    return self.page_rank_score\n",
        "\n",
        "  def set_page_rank_score(self, page_rank_score):\n",
        "    \"\"\"\n",
        "    Sets the node's PageRank score.\n",
        "\n",
        "    Args:\n",
        "      page_rank_score: The new PageRank score for the node.\n",
        "    \"\"\"\n",
        "    self.page_rank_score = page_rank_score\n",
        "\n",
        "  def increment_auth_score(self, hub_score):\n",
        "    \"\"\"\n",
        "    Increments the node's authority score by a given amount.\n",
        "\n",
        "    Args:\n",
        "      hub_score: The amount to add to the authority score.\n",
        "    \"\"\"\n",
        "    self.auth_score += hub_score\n",
        "\n",
        "  def set_auth_score(self, auth_score):\n",
        "    \"\"\"\n",
        "    Sets the node's authority score to a specific value.\n",
        "\n",
        "    Args:\n",
        "      auth_score: The new authority score for the node.\n",
        "    \"\"\"\n",
        "    self.auth_score = auth_score\n",
        "\n",
        "  def increment_hub_score(self, auth_score):\n",
        "    \"\"\"\n",
        "    Increments the node's hub score by a given amount.\n",
        "\n",
        "    Args:\n",
        "      auth_score: The amount to add to the hub score. (Note: might be misleading to use auth_score here)\n",
        "    \"\"\"\n",
        "    self.hub_score += auth_score\n",
        "\n",
        "  def get_auth_score(self):\n",
        "    \"\"\"\n",
        "    Returns the node's current authority score.\n",
        "    \"\"\"\n",
        "    return self.auth_score\n",
        "\n",
        "  def get_hub_score(self):\n",
        "    \"\"\"\n",
        "    Returns the node's current hub score.\n",
        "    \"\"\"\n",
        "    return self.hub_score\n",
        "\n",
        "  def set_hub_score(self, hub_score):\n",
        "    \"\"\"\n",
        "    Sets the node's hub score to a specific value.\n",
        "\n",
        "    Args:\n",
        "      hub_score: The new hub score for the node.\n",
        "    \"\"\"\n",
        "    self.hub_score = hub_score\n",
        "\n",
        "  def add_connection_to_me(self, nodelist):\n",
        "    \"\"\"\n",
        "    Adds a list of nodes to the list of nodes that point to this node (incoming links).\n",
        "\n",
        "    Args:\n",
        "      nodelist: A list of Node objects representing incoming connections.\n",
        "    \"\"\"\n",
        "    for node in nodelist:\n",
        "      if node not in self.connected_to_me:\n",
        "        self.connected_to_me.append(node)\n",
        "\n",
        "  def add_connection_to_them(self, nodelist):\n",
        "    \"\"\"\n",
        "    Adds a list of nodes to the list of nodes this node points to (outgoing links).\n",
        "\n",
        "    Args:\n",
        "      nodelist: A list of Node objects representing outgoing connections.\n",
        "    \"\"\"\n",
        "    for node in nodelist:\n",
        "      if node not in self.connected_to_them:\n",
        "        self.connected_to_them.append(node)\n",
        "\n",
        "  def get_connections_to_me(self):\n",
        "    \"\"\"\n",
        "    Returns the list of nodes that point to this node (incoming links).\n",
        "    \"\"\"\n",
        "    return self.connected_to_me\n",
        "\n",
        "  def get_connections_to_them(self):\n",
        "    \"\"\"\n",
        "    Returns the list of nodes this node points to (outgoing links).\n",
        "    \"\"\"\n",
        "    return self.connected_to_them"
      ],
      "metadata": {
        "id": "Bps4efIgoVUf"
      },
      "execution_count": null,
      "outputs": []
    },
    {
      "cell_type": "code",
      "source": [
        "def get_item_id(href):\n",
        "  return href.split('/')[-1].split('.')[0]"
      ],
      "metadata": {
        "id": "_PjMTvsmILTu"
      },
      "execution_count": null,
      "outputs": []
    },
    {
      "cell_type": "code",
      "source": [
        "productNumbers = []\n",
        "\n",
        "for link in links:\n",
        "  # Use requests to retrieve data from a given URL\n",
        "  mp_response = requests.get(link)\n",
        "  # Parse the whole HTML page using BeautifulSoup\n",
        "  mp_soup = BeautifulSoup(mp_response.text, 'html.parser')\n",
        "\n",
        "\n",
        "  # Get links to the recommended products\n",
        "  node_links = mp_soup.findAll('a', {'class': 'productBlock_link'})\n",
        "  # Create a set of links for each product\n",
        "  recommended_items_set = set()\n",
        "  # For each div of products in the recommended items, extract only the 'href' link\n",
        "  for href in enumerate(node_links):\n",
        "    recommended_items_set.add(href[1]['href'])\n",
        "\n",
        "  # For each 'href' link in the recommended items, extract its ID\n",
        "  # Example: href=\"/sports-nutrition/essential-omega-3/10529329.html?rctxt=default\" turns into href=\"10529329\"\n",
        "  recommended_after_id = []\n",
        "  for recommended in recommended_items_set:\n",
        "    recommended_after_id.append(get_item_id(recommended))\n",
        "  # Append the set to the productNumbers list, each index is the product number\n",
        "  productNumbers.append(recommended_after_id)\n",
        "\n",
        "print(\"List of recommended products length:\", len(productNumbers))\n",
        "print(\"Number of recommended products per page:\", len(productNumbers[0]))"
      ],
      "metadata": {
        "id": "f9qshOzAKY75",
        "colab": {
          "base_uri": "https://localhost:8080/"
        },
        "collapsed": true,
        "outputId": "8041f897-c6f9-48c5-e03f-637393e8b3c3"
      },
      "execution_count": null,
      "outputs": [
        {
          "output_type": "stream",
          "name": "stdout",
          "text": [
            "List of recommended products length: 30\n",
            "Number of recommended products per page: 4\n"
          ]
        }
      ]
    },
    {
      "cell_type": "code",
      "source": [
        "# Extract each main product's id and append them to a new id list\n",
        "# Example: 'https://www.myprotein.co.il/sports-nutrition/impact-whey-protein-powder/10530943.html' turns into 10530943\n",
        "main_node_ids = []\n",
        "for i, link in enumerate(links):\n",
        "  main_node_ids.append(link.split('/')[-1].split('.')[0])\n",
        "print(main_node_ids)"
      ],
      "metadata": {
        "id": "URici6pdahzT",
        "colab": {
          "base_uri": "https://localhost:8080/"
        },
        "outputId": "c79eef34-dd0d-4622-d6e6-52634302befa"
      },
      "execution_count": null,
      "outputs": [
        {
          "output_type": "stream",
          "name": "stdout",
          "text": [
            "['10530943', '10530911', '12081395', '12360400', '11776868', '10529701', '10529988', '10530136', '10530657', '14960829', '11353515', '10798909', '13972449', '10529951', '11067704', '12869895', '11324199', '13125562', '12865492', '12360405', '13251950', '12081401', '13096868', '10926373', '10529805', '11350864', '11332873', '10530268', '12853864', '11332868']\n"
          ]
        }
      ]
    },
    {
      "cell_type": "markdown",
      "source": [
        "**Create 30 nodes from the pages, connect them to their recommended items**"
      ],
      "metadata": {
        "id": "AYasZ0w8-v_U"
      }
    },
    {
      "cell_type": "code",
      "source": [
        "list_main_nodes = []\n",
        "for id in main_node_ids:\n",
        "  node = Node(id)\n",
        "  list_main_nodes.append(node)\n",
        "\n",
        "for i, node in enumerate(list_main_nodes):\n",
        "  nodes_to_add = []\n",
        "  for recommended in productNumbers[i]:\n",
        "    try:\n",
        "      # Find if the recommended product is in the list of 30 products in the page\n",
        "      index_recommended_node = main_node_ids.index(recommended)\n",
        "    except:\n",
        "      index_recommended_node = -1\n",
        "    finally:\n",
        "      # If the recommended item was found in the 30 products, append it's id to the list of connections to the current node\n",
        "      if index_recommended_node != -1:\n",
        "        list_main_nodes[index_recommended_node].add_connection_to_me([node])\n",
        "        nodes_to_add.append(list_main_nodes[index_recommended_node])\n",
        "  node.add_connection_to_them(nodes_to_add)"
      ],
      "metadata": {
        "id": "r1cCXx-p--63"
      },
      "execution_count": null,
      "outputs": []
    },
    {
      "cell_type": "code",
      "source": [
        "for i in range(len(list_main_nodes)):\n",
        "  print(f\"Node {list_main_nodes[i].get_id()} points to {list_main_nodes[i].get_connections_to_them()}\")\n",
        "  print(f\"Node {list_main_nodes[i].get_id()}, the following nodes point to me: {list_main_nodes[i].get_connections_to_me()}\\n\")\n"
      ],
      "metadata": {
        "colab": {
          "base_uri": "https://localhost:8080/"
        },
        "id": "ny75sFmpj8Bf",
        "outputId": "7921debb-62e1-409e-eca7-0968db2220c3"
      },
      "execution_count": null,
      "outputs": [
        {
          "output_type": "stream",
          "name": "stdout",
          "text": [
            "Node 10530943 points to [<__main__.Node object at 0x7cc6a5afb9a0>]\n",
            "Node 10530943, the following nodes point to me: [<__main__.Node object at 0x7cc6a4467be0>, <__main__.Node object at 0x7cc6a5afae60>, <__main__.Node object at 0x7cc6a5afa0b0>, <__main__.Node object at 0x7cc6a5afabc0>, <__main__.Node object at 0x7cc6a5afaef0>, <__main__.Node object at 0x7cc6a5afb850>, <__main__.Node object at 0x7cc6a5afbee0>, <__main__.Node object at 0x7cc6a5afa4d0>, <__main__.Node object at 0x7cc6a5afa590>, <__main__.Node object at 0x7cc6a5afa440>, <__main__.Node object at 0x7cc6a5af9f00>, <__main__.Node object at 0x7cc6a5af9000>, <__main__.Node object at 0x7cc6a5afacb0>, <__main__.Node object at 0x7cc6a5af88e0>, <__main__.Node object at 0x7cc6a5af9f30>, <__main__.Node object at 0x7cc6a5af8910>, <__main__.Node object at 0x7cc6a5af8520>, <__main__.Node object at 0x7cc6a5afae90>, <__main__.Node object at 0x7cc6a5af8f40>, <__main__.Node object at 0x7cc6a5af8d90>]\n",
            "\n",
            "Node 10530911 points to [<__main__.Node object at 0x7cc6a5afb9a0>, <__main__.Node object at 0x7cc6a4467c10>]\n",
            "Node 10530911, the following nodes point to me: [<__main__.Node object at 0x7cc6a5afb9a0>, <__main__.Node object at 0x7cc6a5afabc0>, <__main__.Node object at 0x7cc6a5afbee0>, <__main__.Node object at 0x7cc6a5afa620>, <__main__.Node object at 0x7cc6a5afa440>, <__main__.Node object at 0x7cc6a5af8880>, <__main__.Node object at 0x7cc6a5af8910>, <__main__.Node object at 0x7cc6a5afae90>]\n",
            "\n",
            "Node 12081395 points to [<__main__.Node object at 0x7cc6a4467be0>]\n",
            "Node 12081395, the following nodes point to me: [<__main__.Node object at 0x7cc6a4467c10>, <__main__.Node object at 0x7cc6a4467be0>, <__main__.Node object at 0x7cc6a5afae60>, <__main__.Node object at 0x7cc6a5afb850>, <__main__.Node object at 0x7cc6a5afbee0>, <__main__.Node object at 0x7cc6a5afa4d0>, <__main__.Node object at 0x7cc6a5afa620>, <__main__.Node object at 0x7cc6a5afa590>, <__main__.Node object at 0x7cc6a5afa440>, <__main__.Node object at 0x7cc6a5af8880>, <__main__.Node object at 0x7cc6a5af88e0>, <__main__.Node object at 0x7cc6a5af9f30>, <__main__.Node object at 0x7cc6a5af8520>, <__main__.Node object at 0x7cc6a5af88b0>]\n",
            "\n",
            "Node 12360400 points to [<__main__.Node object at 0x7cc6a5afb9a0>, <__main__.Node object at 0x7cc6a5afa0b0>, <__main__.Node object at 0x7cc6a4467c10>]\n",
            "Node 12360400, the following nodes point to me: [<__main__.Node object at 0x7cc6a5afa0b0>, <__main__.Node object at 0x7cc6a5afa560>, <__main__.Node object at 0x7cc6a5af88e0>]\n",
            "\n",
            "Node 11776868 points to [<__main__.Node object at 0x7cc6a5afa680>, <__main__.Node object at 0x7cc6a4467c10>, <__main__.Node object at 0x7cc6a5afae60>]\n",
            "Node 11776868, the following nodes point to me: [<__main__.Node object at 0x7cc6a5afae60>, <__main__.Node object at 0x7cc6a5afa680>, <__main__.Node object at 0x7cc6a5afaef0>, <__main__.Node object at 0x7cc6a5af8d90>]\n",
            "\n",
            "Node 10529701 points to [<__main__.Node object at 0x7cc6a5afa0b0>]\n",
            "Node 10529701, the following nodes point to me: [<__main__.Node object at 0x7cc6a5afa0b0>, <__main__.Node object at 0x7cc6a5afaef0>, <__main__.Node object at 0x7cc6a5afa560>, <__main__.Node object at 0x7cc6a5af8d90>, <__main__.Node object at 0x7cc6a5afaf50>]\n",
            "\n",
            "Node 10529988 points to [<__main__.Node object at 0x7cc6a4467be0>, <__main__.Node object at 0x7cc6a4467c10>]\n",
            "Node 10529988, the following nodes point to me: [<__main__.Node object at 0x7cc6a5af8520>]\n",
            "\n",
            "Node 10530136 points to [<__main__.Node object at 0x7cc6a4467c10>, <__main__.Node object at 0x7cc6a5afa0b0>, <__main__.Node object at 0x7cc6a5afa680>]\n",
            "Node 10530136, the following nodes point to me: []\n",
            "\n",
            "Node 10530657 points to [<__main__.Node object at 0x7cc6a5afb9a0>, <__main__.Node object at 0x7cc6a4467c10>]\n",
            "Node 10530657, the following nodes point to me: [<__main__.Node object at 0x7cc6a5af9000>, <__main__.Node object at 0x7cc6a5afa470>]\n",
            "\n",
            "Node 14960829 points to [<__main__.Node object at 0x7cc6a5afb9a0>, <__main__.Node object at 0x7cc6a4467be0>, <__main__.Node object at 0x7cc6a4467c10>]\n",
            "Node 14960829, the following nodes point to me: []\n",
            "\n",
            "Node 11353515 points to [<__main__.Node object at 0x7cc6a5afb9a0>, <__main__.Node object at 0x7cc6a4467c10>]\n",
            "Node 11353515, the following nodes point to me: []\n",
            "\n",
            "Node 10798909 points to [<__main__.Node object at 0x7cc6a5afb9a0>, <__main__.Node object at 0x7cc6a4467be0>]\n",
            "Node 10798909, the following nodes point to me: []\n",
            "\n",
            "Node 13972449 points to [<__main__.Node object at 0x7cc6a5afa680>, <__main__.Node object at 0x7cc6a5afae60>]\n",
            "Node 13972449, the following nodes point to me: []\n",
            "\n",
            "Node 10529951 points to [<__main__.Node object at 0x7cc6a5afb9a0>, <__main__.Node object at 0x7cc6a4467c10>]\n",
            "Node 10529951, the following nodes point to me: []\n",
            "\n",
            "Node 11067704 points to [<__main__.Node object at 0x7cc6a5afb9a0>, <__main__.Node object at 0x7cc6a4467be0>, <__main__.Node object at 0x7cc6a4467c10>]\n",
            "Node 11067704, the following nodes point to me: []\n",
            "\n",
            "Node 12869895 points to [<__main__.Node object at 0x7cc6a4467c10>]\n",
            "Node 12869895, the following nodes point to me: []\n",
            "\n",
            "Node 11324199 points to [<__main__.Node object at 0x7cc6a5afb850>, <__main__.Node object at 0x7cc6a4467c10>]\n",
            "Node 11324199, the following nodes point to me: []\n",
            "\n",
            "Node 13125562 points to [<__main__.Node object at 0x7cc6a4467c10>]\n",
            "Node 13125562, the following nodes point to me: []\n",
            "\n",
            "Node 12865492 points to [<__main__.Node object at 0x7cc6a5afb9a0>, <__main__.Node object at 0x7cc6a4467be0>]\n",
            "Node 12865492, the following nodes point to me: []\n",
            "\n",
            "Node 12360405 points to [<__main__.Node object at 0x7cc6a5afb9a0>, <__main__.Node object at 0x7cc6a4467c10>, <__main__.Node object at 0x7cc6a5afae60>]\n",
            "Node 12360405, the following nodes point to me: [<__main__.Node object at 0x7cc6a5af8910>, <__main__.Node object at 0x7cc6a5af8f40>, <__main__.Node object at 0x7cc6a5afaf50>]\n",
            "\n",
            "Node 13251950 points to [<__main__.Node object at 0x7cc6a5afb9a0>, <__main__.Node object at 0x7cc6a4467c10>]\n",
            "Node 13251950, the following nodes point to me: []\n",
            "\n",
            "Node 12081401 points to [<__main__.Node object at 0x7cc6a4467be0>, <__main__.Node object at 0x7cc6a5af88e0>, <__main__.Node object at 0x7cc6a4467c10>]\n",
            "Node 12081401, the following nodes point to me: []\n",
            "\n",
            "Node 13096868 points to [<__main__.Node object at 0x7cc6a5afb9a0>, <__main__.Node object at 0x7cc6a4467c10>, <__main__.Node object at 0x7cc6a5afabc0>]\n",
            "Node 13096868, the following nodes point to me: []\n",
            "\n",
            "Node 10926373 points to [<__main__.Node object at 0x7cc6a5afb9a0>]\n",
            "Node 10926373, the following nodes point to me: []\n",
            "\n",
            "Node 10529805 points to [<__main__.Node object at 0x7cc6a4467be0>, <__main__.Node object at 0x7cc6a4467c10>]\n",
            "Node 10529805, the following nodes point to me: []\n",
            "\n",
            "Node 11350864 points to [<__main__.Node object at 0x7cc6a5afb850>]\n",
            "Node 11350864, the following nodes point to me: []\n",
            "\n",
            "Node 11332873 points to [<__main__.Node object at 0x7cc6a4467c10>, <__main__.Node object at 0x7cc6a5afaf50>, <__main__.Node object at 0x7cc6a5af88e0>]\n",
            "Node 11332873, the following nodes point to me: []\n",
            "\n",
            "Node 10530268 points to []\n",
            "Node 10530268, the following nodes point to me: []\n",
            "\n",
            "Node 12853864 points to [<__main__.Node object at 0x7cc6a4467c10>, <__main__.Node object at 0x7cc6a5afa0b0>, <__main__.Node object at 0x7cc6a5afa680>]\n",
            "Node 12853864, the following nodes point to me: []\n",
            "\n",
            "Node 11332868 points to [<__main__.Node object at 0x7cc6a5afa680>, <__main__.Node object at 0x7cc6a5af88e0>]\n",
            "Node 11332868, the following nodes point to me: [<__main__.Node object at 0x7cc6a5af8f40>]\n",
            "\n"
          ]
        }
      ]
    },
    {
      "cell_type": "code",
      "source": [
        "# Authority and Hub score\n",
        "# Initialize the sum of authority scores to 0\n",
        "auth_score_sum = 0\n",
        "# Calculate authority score for each node\n",
        "for node in list_main_nodes:\n",
        "  # Iterate through all nodes connected to the current node\n",
        "  for node2 in node.get_connections_to_them():\n",
        "    # Increment the authority score of the current node by the hub score of the connected node\n",
        "    node.increment_auth_score(node2.get_hub_score())\n",
        "  # Add the current node's authority score to the total sum\n",
        "  auth_score_sum += node.get_auth_score()\n",
        "\n",
        "# Normalize authority scores by dividing each score by the total sum\n",
        "for node in list_main_nodes:\n",
        "  node.set_auth_score(node.get_auth_score() / auth_score_sum)\n",
        "\n",
        "# Initialize the sum of hub scores to 0\n",
        "hub_score_sum = 0\n",
        "\n",
        "# Calculate hub score for each node\n",
        "for node in list_main_nodes:\n",
        "  # Iterate through all nodes connected to the current node\n",
        "  for node2 in node.get_connections_to_them():\n",
        "    # Increment the hub score of the connected node by the authority score of the current node\n",
        "    node2.increment_hub_score(node.get_auth_score())\n",
        "  # Add the current node's hub score to the total sum\n",
        "  hub_score_sum += node.get_hub_score()\n",
        "\n",
        "# Normalize hub scores by dividing each score by the total sum\n",
        "for node in list_main_nodes:\n",
        "  node.set_hub_score(node.get_hub_score() / hub_score_sum)\n",
        "\n",
        "# Iterate 30 times to print the hub and authority scores of the first 30 nodes\n",
        "for i in range(30):\n",
        "  print(f\"Node id {list_main_nodes[i]} has hub score of\",  \"{:.4f}\".format(list_main_nodes[i].get_hub_score()), \"and auth score of\", \"{:.4f}\".format(list_main_nodes[i].get_auth_score()))\n",
        "\n"
      ],
      "metadata": {
        "colab": {
          "base_uri": "https://localhost:8080/"
        },
        "id": "MfgCgameVEqL",
        "outputId": "d587a49f-bcb7-4796-efef-5bf5e636c0f0"
      },
      "execution_count": null,
      "outputs": [
        {
          "output_type": "stream",
          "name": "stdout",
          "text": [
            "Node id 10530943 has hub score of 0.0579 and auth score of 0.0220\n",
            "Node id 10530911 has hub score of 0.0426 and auth score of 0.0330\n",
            "Node id 12081395 has hub score of 0.0495 and auth score of 0.0220\n",
            "Node id 12360400 has hub score of 0.0371 and auth score of 0.0440\n",
            "Node id 11776868 has hub score of 0.0382 and auth score of 0.0440\n",
            "Node id 10529701 has hub score of 0.0397 and auth score of 0.0220\n",
            "Node id 10529988 has hub score of 0.0346 and auth score of 0.0330\n",
            "Node id 10530136 has hub score of 0.0331 and auth score of 0.0440\n",
            "Node id 10530657 has hub score of 0.0349 and auth score of 0.0330\n",
            "Node id 14960829 has hub score of 0.0331 and auth score of 0.0440\n",
            "Node id 11353515 has hub score of 0.0331 and auth score of 0.0330\n",
            "Node id 10798909 has hub score of 0.0331 and auth score of 0.0330\n",
            "Node id 13972449 has hub score of 0.0331 and auth score of 0.0330\n",
            "Node id 10529951 has hub score of 0.0331 and auth score of 0.0330\n",
            "Node id 11067704 has hub score of 0.0331 and auth score of 0.0440\n",
            "Node id 12869895 has hub score of 0.0331 and auth score of 0.0220\n",
            "Node id 11324199 has hub score of 0.0331 and auth score of 0.0330\n",
            "Node id 13125562 has hub score of 0.0331 and auth score of 0.0220\n",
            "Node id 12865492 has hub score of 0.0331 and auth score of 0.0330\n",
            "Node id 12360405 has hub score of 0.0371 and auth score of 0.0440\n",
            "Node id 13251950 has hub score of 0.0331 and auth score of 0.0330\n",
            "Node id 12081401 has hub score of 0.0331 and auth score of 0.0440\n",
            "Node id 13096868 has hub score of 0.0331 and auth score of 0.0440\n",
            "Node id 10926373 has hub score of 0.0331 and auth score of 0.0220\n",
            "Node id 10529805 has hub score of 0.0331 and auth score of 0.0330\n",
            "Node id 11350864 has hub score of 0.0331 and auth score of 0.0220\n",
            "Node id 11332873 has hub score of 0.0331 and auth score of 0.0440\n",
            "Node id 10530268 has hub score of 0.0331 and auth score of 0.0110\n",
            "Node id 12853864 has hub score of 0.0331 and auth score of 0.0440\n",
            "Node id 11332868 has hub score of 0.0346 and auth score of 0.0330\n"
          ]
        }
      ]
    },
    {
      "cell_type": "markdown",
      "source": [
        "**Page rank algorithm**"
      ],
      "metadata": {
        "id": "85umAeRzfGwG"
      }
    },
    {
      "cell_type": "code",
      "source": [
        "# Initialize page rank scores for all nodes to equal probability\n",
        "for node in list_main_nodes:\n",
        "  node.set_page_rank_score(1 / len(list_main_nodes))\n",
        "  # Ensure every node has at least one outgoing link (to prevent division by zero)\n",
        "  if len(node.get_connections_to_them()) == 0:\n",
        "    node.add_connection_to_them(list_main_nodes)\n",
        "\n",
        "# PageRank iteration\n",
        "for i in range(101):\n",
        "  # Iterate over all nodes\n",
        "  for node in list_main_nodes:\n",
        "    # Calculate the new page rank score for the current node\n",
        "    page_rank_value = 0.15 / len(list_main_nodes)  # Teleportation factor\n",
        "    for node2 in node.get_connections_to_me():\n",
        "      # Contribute from incoming links based on the sender's page rank and outlinks\n",
        "      page_rank_value += 0.85 * node2.get_page_rank_score() / len(node2.get_connections_to_them())\n",
        "    node.set_page_rank_score(page_rank_value)\n",
        "\n",
        "\n",
        "\n",
        "  # Convergence check\n",
        "  # Print page rank scores every 10 iterations for monitoring\n",
        "  if (i % 10 == 0):\n",
        "    print(f\"Iteration {i}:\")\n",
        "    for i in range(len(list_main_nodes)):\n",
        "      print(f\"Node {list_main_nodes[i].get_id()} PR:\",  \"{:.4f}\".format(list_main_nodes[i].get_page_rank_score()), end=\", \")\n",
        "    print(\"\")\n"
      ],
      "metadata": {
        "colab": {
          "base_uri": "https://localhost:8080/"
        },
        "id": "xfKiV7CMfGMy",
        "outputId": "8ba67625-1049-45ba-dd66-cef08da3883e"
      },
      "execution_count": null,
      "outputs": [
        {
          "output_type": "stream",
          "name": "stdout",
          "text": [
            "Iteration 0:\n",
            "Node 10530943 PR: 0.2694, Node 10530911 PR: 0.1183, Node 12081395 PR: 0.4449, Node 12360400 PR: 0.0381, Node 11776868 PR: 0.0630, Node 10529701 PR: 0.0701, Node 10529988 PR: 0.0144, Node 10530136 PR: 0.0050, Node 10530657 PR: 0.0475, Node 14960829 PR: 0.0050, Node 11353515 PR: 0.0050, Node 10798909 PR: 0.0050, Node 13972449 PR: 0.0050, Node 10529951 PR: 0.0050, Node 11067704 PR: 0.0050, Node 12869895 PR: 0.0050, Node 11324199 PR: 0.0050, Node 13125562 PR: 0.0050, Node 12865492 PR: 0.0050, Node 12360405 PR: 0.0381, Node 13251950 PR: 0.0050, Node 12081401 PR: 0.0050, Node 13096868 PR: 0.0050, Node 10926373 PR: 0.0050, Node 10529805 PR: 0.0050, Node 11350864 PR: 0.0050, Node 11332873 PR: 0.0050, Node 10530268 PR: 0.0050, Node 12853864 PR: 0.0050, Node 11332868 PR: 0.0064, \n",
            "Iteration 10:\n",
            "Node 10530943 PR: 0.1838, Node 10530911 PR: 0.2904, Node 12081395 PR: 0.3170, Node 12360400 PR: 0.0191, Node 11776868 PR: 0.0316, Node 10529701 PR: 0.0217, Node 10529988 PR: 0.0064, Node 10530136 PR: 0.0050, Node 10530657 PR: 0.0114, Node 14960829 PR: 0.0050, Node 11353515 PR: 0.0050, Node 10798909 PR: 0.0050, Node 13972449 PR: 0.0050, Node 10529951 PR: 0.0050, Node 11067704 PR: 0.0050, Node 12869895 PR: 0.0050, Node 11324199 PR: 0.0050, Node 13125562 PR: 0.0050, Node 12865492 PR: 0.0050, Node 12360405 PR: 0.0106, Node 13251950 PR: 0.0050, Node 12081401 PR: 0.0050, Node 13096868 PR: 0.0050, Node 10926373 PR: 0.0050, Node 10529805 PR: 0.0050, Node 11350864 PR: 0.0050, Node 11332873 PR: 0.0050, Node 10530268 PR: 0.0050, Node 12853864 PR: 0.0050, Node 11332868 PR: 0.0064, \n",
            "Iteration 20:\n",
            "Node 10530943 PR: 0.1782, Node 10530911 PR: 0.2802, Node 12081395 PR: 0.3079, Node 12360400 PR: 0.0191, Node 11776868 PR: 0.0316, Node 10529701 PR: 0.0217, Node 10529988 PR: 0.0064, Node 10530136 PR: 0.0050, Node 10530657 PR: 0.0114, Node 14960829 PR: 0.0050, Node 11353515 PR: 0.0050, Node 10798909 PR: 0.0050, Node 13972449 PR: 0.0050, Node 10529951 PR: 0.0050, Node 11067704 PR: 0.0050, Node 12869895 PR: 0.0050, Node 11324199 PR: 0.0050, Node 13125562 PR: 0.0050, Node 12865492 PR: 0.0050, Node 12360405 PR: 0.0106, Node 13251950 PR: 0.0050, Node 12081401 PR: 0.0050, Node 13096868 PR: 0.0050, Node 10926373 PR: 0.0050, Node 10529805 PR: 0.0050, Node 11350864 PR: 0.0050, Node 11332873 PR: 0.0050, Node 10530268 PR: 0.0050, Node 12853864 PR: 0.0050, Node 11332868 PR: 0.0064, \n",
            "Iteration 30:\n",
            "Node 10530943 PR: 0.1778, Node 10530911 PR: 0.2796, Node 12081395 PR: 0.3073, Node 12360400 PR: 0.0191, Node 11776868 PR: 0.0316, Node 10529701 PR: 0.0217, Node 10529988 PR: 0.0064, Node 10530136 PR: 0.0050, Node 10530657 PR: 0.0114, Node 14960829 PR: 0.0050, Node 11353515 PR: 0.0050, Node 10798909 PR: 0.0050, Node 13972449 PR: 0.0050, Node 10529951 PR: 0.0050, Node 11067704 PR: 0.0050, Node 12869895 PR: 0.0050, Node 11324199 PR: 0.0050, Node 13125562 PR: 0.0050, Node 12865492 PR: 0.0050, Node 12360405 PR: 0.0106, Node 13251950 PR: 0.0050, Node 12081401 PR: 0.0050, Node 13096868 PR: 0.0050, Node 10926373 PR: 0.0050, Node 10529805 PR: 0.0050, Node 11350864 PR: 0.0050, Node 11332873 PR: 0.0050, Node 10530268 PR: 0.0050, Node 12853864 PR: 0.0050, Node 11332868 PR: 0.0064, \n",
            "Iteration 40:\n",
            "Node 10530943 PR: 0.1778, Node 10530911 PR: 0.2795, Node 12081395 PR: 0.3073, Node 12360400 PR: 0.0191, Node 11776868 PR: 0.0316, Node 10529701 PR: 0.0217, Node 10529988 PR: 0.0064, Node 10530136 PR: 0.0050, Node 10530657 PR: 0.0114, Node 14960829 PR: 0.0050, Node 11353515 PR: 0.0050, Node 10798909 PR: 0.0050, Node 13972449 PR: 0.0050, Node 10529951 PR: 0.0050, Node 11067704 PR: 0.0050, Node 12869895 PR: 0.0050, Node 11324199 PR: 0.0050, Node 13125562 PR: 0.0050, Node 12865492 PR: 0.0050, Node 12360405 PR: 0.0106, Node 13251950 PR: 0.0050, Node 12081401 PR: 0.0050, Node 13096868 PR: 0.0050, Node 10926373 PR: 0.0050, Node 10529805 PR: 0.0050, Node 11350864 PR: 0.0050, Node 11332873 PR: 0.0050, Node 10530268 PR: 0.0050, Node 12853864 PR: 0.0050, Node 11332868 PR: 0.0064, \n",
            "Iteration 50:\n",
            "Node 10530943 PR: 0.1778, Node 10530911 PR: 0.2795, Node 12081395 PR: 0.3072, Node 12360400 PR: 0.0191, Node 11776868 PR: 0.0316, Node 10529701 PR: 0.0217, Node 10529988 PR: 0.0064, Node 10530136 PR: 0.0050, Node 10530657 PR: 0.0114, Node 14960829 PR: 0.0050, Node 11353515 PR: 0.0050, Node 10798909 PR: 0.0050, Node 13972449 PR: 0.0050, Node 10529951 PR: 0.0050, Node 11067704 PR: 0.0050, Node 12869895 PR: 0.0050, Node 11324199 PR: 0.0050, Node 13125562 PR: 0.0050, Node 12865492 PR: 0.0050, Node 12360405 PR: 0.0106, Node 13251950 PR: 0.0050, Node 12081401 PR: 0.0050, Node 13096868 PR: 0.0050, Node 10926373 PR: 0.0050, Node 10529805 PR: 0.0050, Node 11350864 PR: 0.0050, Node 11332873 PR: 0.0050, Node 10530268 PR: 0.0050, Node 12853864 PR: 0.0050, Node 11332868 PR: 0.0064, \n",
            "Iteration 60:\n",
            "Node 10530943 PR: 0.1778, Node 10530911 PR: 0.2795, Node 12081395 PR: 0.3072, Node 12360400 PR: 0.0191, Node 11776868 PR: 0.0316, Node 10529701 PR: 0.0217, Node 10529988 PR: 0.0064, Node 10530136 PR: 0.0050, Node 10530657 PR: 0.0114, Node 14960829 PR: 0.0050, Node 11353515 PR: 0.0050, Node 10798909 PR: 0.0050, Node 13972449 PR: 0.0050, Node 10529951 PR: 0.0050, Node 11067704 PR: 0.0050, Node 12869895 PR: 0.0050, Node 11324199 PR: 0.0050, Node 13125562 PR: 0.0050, Node 12865492 PR: 0.0050, Node 12360405 PR: 0.0106, Node 13251950 PR: 0.0050, Node 12081401 PR: 0.0050, Node 13096868 PR: 0.0050, Node 10926373 PR: 0.0050, Node 10529805 PR: 0.0050, Node 11350864 PR: 0.0050, Node 11332873 PR: 0.0050, Node 10530268 PR: 0.0050, Node 12853864 PR: 0.0050, Node 11332868 PR: 0.0064, \n",
            "Iteration 70:\n",
            "Node 10530943 PR: 0.1778, Node 10530911 PR: 0.2795, Node 12081395 PR: 0.3072, Node 12360400 PR: 0.0191, Node 11776868 PR: 0.0316, Node 10529701 PR: 0.0217, Node 10529988 PR: 0.0064, Node 10530136 PR: 0.0050, Node 10530657 PR: 0.0114, Node 14960829 PR: 0.0050, Node 11353515 PR: 0.0050, Node 10798909 PR: 0.0050, Node 13972449 PR: 0.0050, Node 10529951 PR: 0.0050, Node 11067704 PR: 0.0050, Node 12869895 PR: 0.0050, Node 11324199 PR: 0.0050, Node 13125562 PR: 0.0050, Node 12865492 PR: 0.0050, Node 12360405 PR: 0.0106, Node 13251950 PR: 0.0050, Node 12081401 PR: 0.0050, Node 13096868 PR: 0.0050, Node 10926373 PR: 0.0050, Node 10529805 PR: 0.0050, Node 11350864 PR: 0.0050, Node 11332873 PR: 0.0050, Node 10530268 PR: 0.0050, Node 12853864 PR: 0.0050, Node 11332868 PR: 0.0064, \n",
            "Iteration 80:\n",
            "Node 10530943 PR: 0.1778, Node 10530911 PR: 0.2795, Node 12081395 PR: 0.3072, Node 12360400 PR: 0.0191, Node 11776868 PR: 0.0316, Node 10529701 PR: 0.0217, Node 10529988 PR: 0.0064, Node 10530136 PR: 0.0050, Node 10530657 PR: 0.0114, Node 14960829 PR: 0.0050, Node 11353515 PR: 0.0050, Node 10798909 PR: 0.0050, Node 13972449 PR: 0.0050, Node 10529951 PR: 0.0050, Node 11067704 PR: 0.0050, Node 12869895 PR: 0.0050, Node 11324199 PR: 0.0050, Node 13125562 PR: 0.0050, Node 12865492 PR: 0.0050, Node 12360405 PR: 0.0106, Node 13251950 PR: 0.0050, Node 12081401 PR: 0.0050, Node 13096868 PR: 0.0050, Node 10926373 PR: 0.0050, Node 10529805 PR: 0.0050, Node 11350864 PR: 0.0050, Node 11332873 PR: 0.0050, Node 10530268 PR: 0.0050, Node 12853864 PR: 0.0050, Node 11332868 PR: 0.0064, \n",
            "Iteration 90:\n",
            "Node 10530943 PR: 0.1778, Node 10530911 PR: 0.2795, Node 12081395 PR: 0.3072, Node 12360400 PR: 0.0191, Node 11776868 PR: 0.0316, Node 10529701 PR: 0.0217, Node 10529988 PR: 0.0064, Node 10530136 PR: 0.0050, Node 10530657 PR: 0.0114, Node 14960829 PR: 0.0050, Node 11353515 PR: 0.0050, Node 10798909 PR: 0.0050, Node 13972449 PR: 0.0050, Node 10529951 PR: 0.0050, Node 11067704 PR: 0.0050, Node 12869895 PR: 0.0050, Node 11324199 PR: 0.0050, Node 13125562 PR: 0.0050, Node 12865492 PR: 0.0050, Node 12360405 PR: 0.0106, Node 13251950 PR: 0.0050, Node 12081401 PR: 0.0050, Node 13096868 PR: 0.0050, Node 10926373 PR: 0.0050, Node 10529805 PR: 0.0050, Node 11350864 PR: 0.0050, Node 11332873 PR: 0.0050, Node 10530268 PR: 0.0050, Node 12853864 PR: 0.0050, Node 11332868 PR: 0.0064, \n",
            "Iteration 100:\n",
            "Node 10530943 PR: 0.1778, Node 10530911 PR: 0.2795, Node 12081395 PR: 0.3072, Node 12360400 PR: 0.0191, Node 11776868 PR: 0.0316, Node 10529701 PR: 0.0217, Node 10529988 PR: 0.0064, Node 10530136 PR: 0.0050, Node 10530657 PR: 0.0114, Node 14960829 PR: 0.0050, Node 11353515 PR: 0.0050, Node 10798909 PR: 0.0050, Node 13972449 PR: 0.0050, Node 10529951 PR: 0.0050, Node 11067704 PR: 0.0050, Node 12869895 PR: 0.0050, Node 11324199 PR: 0.0050, Node 13125562 PR: 0.0050, Node 12865492 PR: 0.0050, Node 12360405 PR: 0.0106, Node 13251950 PR: 0.0050, Node 12081401 PR: 0.0050, Node 13096868 PR: 0.0050, Node 10926373 PR: 0.0050, Node 10529805 PR: 0.0050, Node 11350864 PR: 0.0050, Node 11332873 PR: 0.0050, Node 10530268 PR: 0.0050, Node 12853864 PR: 0.0050, Node 11332868 PR: 0.0064, \n"
          ]
        }
      ]
    },
    {
      "cell_type": "code",
      "source": [
        "# Find top page rank scoring page indexes and display their id number.\n",
        "top_ten_results =[] # List to store tuples of index and page rank score\n",
        "\n",
        "# Iterate over main nodes, creating tuples of index and page rank score\n",
        "for i, item in enumerate(list_main_nodes):\n",
        "  top_ten_results.append((i, item.get_page_rank_score()))\n",
        "\n",
        "# Sort the results by page rank score in descending order\n",
        "top_ten_results.sort(key=lambda x: x[1], reverse=True)\n",
        "\n",
        "# Extract the indexes of the top 10 results\n",
        "list_of_indexes_of_top_ten = []\n",
        "for i in range(10):\n",
        "  list_of_indexes_of_top_ten.append(top_ten_results[i][0])\n",
        "\n",
        "# Print page rank scores and corresponding links for the top 10 results\n",
        "for i in list_of_indexes_of_top_ten:\n",
        "  print(\"PR: \", list_main_nodes[i].get_page_rank_score())\n",
        "  print(links[i])"
      ],
      "metadata": {
        "colab": {
          "base_uri": "https://localhost:8080/"
        },
        "id": "qs_N3_lCykkA",
        "outputId": "8caefdd9-39ef-46cc-ab75-2588d5a39898"
      },
      "execution_count": null,
      "outputs": [
        {
          "output_type": "stream",
          "name": "stdout",
          "text": [
            "PR:  0.3072475127646222\n",
            "https://www.myprotein.co.il/sports-nutrition/clear-whey-protein-powder/12081395.html\n",
            "PR:  0.27951246918333494\n",
            "https://www.myprotein.co.il/sports-nutrition/impact-whey-isolate-powder/10530911.html\n",
            "PR:  0.1777605054993788\n",
            "https://www.myprotein.co.il/sports-nutrition/impact-whey-protein-powder/10530943.html\n",
            "PR:  0.03164354967948718\n",
            "https://www.myprotein.co.il/sports-nutrition/vegan-protein-blend/11776868.html\n",
            "PR:  0.021651089075854703\n",
            "https://www.myprotein.co.il/sports-nutrition/soy-protein-isolate/10529701.html\n",
            "PR:  0.019082790464743593\n",
            "https://www.myprotein.co.il/sports-nutrition/clear-vegan-protein/12360400.html\n",
            "PR:  0.011375\n",
            "https://www.myprotein.co.il/sports-nutrition/impact-diet-whey/10530657.html\n",
            "PR:  0.010560416666666668\n",
            "https://www.myprotein.co.il/sports-nutrition/clear-vegan-protein-sample/12360405.html\n",
            "PR:  0.006416666666666667\n",
            "https://www.myprotein.co.il/sports-nutrition/impact-weight-gainer/10529988.html\n",
            "PR:  0.006416666666666667\n",
            "https://www.myprotein.co.il/sports-nutrition/soy-protein-isolate-sample/11332868.html\n"
          ]
        }
      ]
    }
  ]
}