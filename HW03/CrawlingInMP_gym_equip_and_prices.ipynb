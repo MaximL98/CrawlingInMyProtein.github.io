{
  "nbformat": 4,
  "nbformat_minor": 0,
  "metadata": {
    "colab": {
      "provenance": [],
      "authorship_tag": "ABX9TyPcEqytEjQCIBQSbJyT3GLu",
      "include_colab_link": true
    },
    "kernelspec": {
      "name": "python3",
      "display_name": "Python 3"
    },
    "language_info": {
      "name": "python"
    }
  },
  "cells": [
    {
      "cell_type": "markdown",
      "metadata": {
        "id": "view-in-github",
        "colab_type": "text"
      },
      "source": [
        "<a href=\"https://colab.research.google.com/github/MaximL98/CrawlingInMyProtein.github.io/blob/master/HW03/CrawlingInMP_gym_equip_and_prices.ipynb\" target=\"_parent\"><img src=\"https://colab.research.google.com/assets/colab-badge.svg\" alt=\"Open In Colab\"/></a>"
      ]
    },
    {
      "cell_type": "markdown",
      "source": [
        "# This code handles the following:\n",
        "\n",
        "\n",
        "1.   Does the product is in the gym equipment category (not cloths).\n",
        "2.   The prices of products and diplaying products based on user wanted price range.\n",
        "\n"
      ],
      "metadata": {
        "id": "6sG9VDQGQ-0m"
      }
    },
    {
      "cell_type": "markdown",
      "source": [
        "Importing relevant libraries"
      ],
      "metadata": {
        "id": "a_gebfllMd-K"
      }
    },
    {
      "cell_type": "code",
      "execution_count": null,
      "metadata": {
        "id": "JxYdg3GpqoKX"
      },
      "outputs": [],
      "source": [
        "# Imports\n",
        "import requests\n",
        "import numpy as np\n",
        "import pandas as pd\n",
        "from bs4 import BeautifulSoup\n",
        "import re\n",
        "import json\n",
        "import time"
      ]
    },
    {
      "cell_type": "code",
      "source": [
        "mp_main = 'https://www.myprotein.co.il'"
      ],
      "metadata": {
        "id": "zk-za1f7_7F6"
      },
      "execution_count": null,
      "outputs": []
    },
    {
      "cell_type": "markdown",
      "source": [
        "Function that returns:\n",
        "\n",
        "\n",
        "*   Product name\n",
        "*   Product price\n",
        "*   Product picture"
      ],
      "metadata": {
        "id": "TpETai8k9sot"
      }
    },
    {
      "cell_type": "code",
      "source": [
        "def get_product_details(mp_soup):\n",
        "  product_prices = [] # List to store product prices\n",
        "  product_names = [] # List to store product names\n",
        "  product_pics = [] # List to store product image URLs\n",
        "  all_products = mp_soup.find('ul', {'class': 'productListProducts_products'})\n",
        "  product_list = all_products.find('li', {'class': 'productListProducts_product'})\n",
        "  # If the product list container exists\n",
        "  if all_products:\n",
        "    # Find all product items in the list\n",
        "    product_list = all_products.find_all('li')\n",
        "    for product in product_list:\n",
        "      # Try to find the product price in the standard class\n",
        "      product_price = product.find('span', class_='productBlock_fromValue')\n",
        "      # If price not found, try an alternative class\n",
        "      if product_price == None:\n",
        "        try:\n",
        "          product_price = product.find('span', class_='productBlock_priceValue') # For some products the price stored in different class\n",
        "        except:\n",
        "          if not product_price:\n",
        "            continue\n",
        "      # Extract the price as a float, removing the last character (currency symbol)\n",
        "      product_prices.append(float(product_price.text.strip()[:-1]))\n",
        "\n",
        "      # Find the product name\n",
        "      product_name = product.find('div', class_='productBlock_title')\n",
        "      product_name = product_name.find('h3', class_='productBlock_productName')\n",
        "      product_names.append(product_name.text.strip())\n",
        "\n",
        "      # Find the product image URL\n",
        "      product_pic = product.find('img', class_='productBlock_image')\n",
        "      product_pics.append(product_pic.attrs['src'])\n",
        "\n",
        "  return product_prices, product_names, product_pics"
      ],
      "metadata": {
        "id": "cSGoj26Jv08V"
      },
      "execution_count": null,
      "outputs": []
    },
    {
      "cell_type": "markdown",
      "source": [
        "Function that returns the link to each product"
      ],
      "metadata": {
        "id": "4hdbhA6uMy8F"
      }
    },
    {
      "cell_type": "code",
      "source": [
        "def get_links_from_page(mp_soup):\n",
        "    links = [] # Initialize an empty list to store links\n",
        "    all_products = mp_soup.find('ul', {'class': 'productListProducts_products'})\n",
        "    if all_products:\n",
        "      # Find the product list items\n",
        "      product_list = all_products.find('li', {'class': 'productListProducts_product'})\n",
        "    if all_products:\n",
        "      product_list = all_products.find_all('li')\n",
        "      # Iterate over each product list item\n",
        "      for li in product_list:\n",
        "        # Find the anchor tag (link) within the list item\n",
        "        a_tag_array = li.findAll('a', {'class': 'productBlock_link'})\n",
        "        # Assuming the second anchor tag is the desired link\n",
        "        a_tag = a_tag_array[1]\n",
        "\n",
        "        # If a valid link is found, append it to the list\n",
        "        if a_tag:\n",
        "          links.append(mp_main + a_tag['href'])\n",
        "      return links # Return the list of extracted links\n",
        "\n",
        "    else:\n",
        "      print(\"Page does not exits!\") # Handle the case where the product list is not found\n",
        "      return"
      ],
      "metadata": {
        "id": "hVUtMAGNx6wC"
      },
      "execution_count": null,
      "outputs": []
    },
    {
      "cell_type": "code",
      "source": [
        "def flatten(xss):\n",
        "    return [x for xs in xss for x in xs]"
      ],
      "metadata": {
        "id": "vK9mV1hO0jwn"
      },
      "execution_count": null,
      "outputs": []
    },
    {
      "cell_type": "markdown",
      "source": [
        "Access all products in the accessories  (6 pages) from this [link](https://www.myprotein.co.il/clothing/soft-accessories.list?pageNumber=).\n",
        "\n",
        "And retrieve product name, price and picture."
      ],
      "metadata": {
        "id": "M6UkfI7v2Y--"
      }
    },
    {
      "cell_type": "code",
      "source": [
        "# Initialize empty lists to store product data\n",
        "links = []\n",
        "product_names = []\n",
        "product_prices = []\n",
        "product_pics = []\n",
        "\n",
        "for i in range(1,7):\n",
        "  print(f\"Loading products from page {i} ... \")\n",
        "  mp_url = \"https://www.myprotein.co.il/clothing/soft-accessories.list?pageNumber=\" + str(i)\n",
        "  # Use requests to retrieve data from a given URL\n",
        "  mp_response = requests.get(mp_url)\n",
        "  # Parse the whole HTML page using BeautifulSoup\n",
        "  mp_soup = BeautifulSoup(mp_response.text, 'html.parser')\n",
        "  # Function call to extract product links from the current page\n",
        "  links.append(get_links_from_page(mp_soup))\n",
        "  # Append extracted product details to their respective lists\n",
        "  prices, names, pics = get_product_details(mp_soup)\n",
        "  product_prices.append(prices)\n",
        "  product_names.append(names)\n",
        "  product_pics.append(pics)"
      ],
      "metadata": {
        "colab": {
          "base_uri": "https://localhost:8080/"
        },
        "id": "Ix1gcrJQy9kz",
        "outputId": "f45811b7-9e6a-4969-81b9-bab5b901c83b"
      },
      "execution_count": null,
      "outputs": [
        {
          "output_type": "stream",
          "name": "stdout",
          "text": [
            "Loading products from page 1 ... \n",
            "Loading products from page 2 ... \n",
            "Loading products from page 3 ... \n",
            "Loading products from page 4 ... \n",
            "Loading products from page 5 ... \n",
            "Loading products from page 6 ... \n"
          ]
        }
      ]
    },
    {
      "cell_type": "code",
      "source": [
        "links = flatten(links)\n",
        "product_names = flatten(product_names)\n",
        "product_pics = flatten(product_pics)\n",
        "product_prices = flatten(product_prices)"
      ],
      "metadata": {
        "collapsed": true,
        "id": "gpy6PEKYzINQ"
      },
      "execution_count": null,
      "outputs": []
    },
    {
      "cell_type": "markdown",
      "source": [
        "Some of the retrived data needed to get filtered to remove unusual characters"
      ],
      "metadata": {
        "id": "hIDkPh8vNVE1"
      }
    },
    {
      "cell_type": "code",
      "source": [
        "def extract_words_in_parentheses(text):\n",
        "  pattern = r'\\(([^()%]+)\\)'\n",
        "  matches = re.findall(pattern, text)\n",
        "  result = [match for match in matches if '%' not in match]\n",
        "  return result"
      ],
      "metadata": {
        "id": "ZOMTFvtXoumB"
      },
      "execution_count": null,
      "outputs": []
    },
    {
      "cell_type": "markdown",
      "source": [
        "Another filter function that is used in the function ```get_product_range```\n",
        "\n",
        "\n",
        "\n"
      ],
      "metadata": {
        "id": "MEOzcDJnNvRs"
      }
    },
    {
      "cell_type": "code",
      "source": [
        "def split_and_insert(input_list):\n",
        "  new_list = []\n",
        "  for item in input_list:\n",
        "    if ',' in item:\n",
        "      split_items = item.split(',')\n",
        "      new_list.extend(split_items)\n",
        "    else:\n",
        "      new_list.append(item)\n",
        "  return new_list"
      ],
      "metadata": {
        "id": "2df8FdRXxh2m"
      },
      "execution_count": null,
      "outputs": []
    },
    {
      "cell_type": "markdown",
      "source": [
        "Get product range from product details (example: Hard accessories)"
      ],
      "metadata": {
        "id": "Q4MV-El5-ETq"
      }
    },
    {
      "cell_type": "code",
      "source": [
        "def get_product_range(links):\n",
        "  hard_acc_products = {} # Dictionary to store hard accessory products\n",
        "  soft_acc_products = {} # Dictionary to store soft accessory products\n",
        "  description_texts = {} # Dictionary to store product descriptions\n",
        "  ingredients = [] # List to store ingredient lists\n",
        "  for i, link in enumerate(links):\n",
        "    # Use requests to retrieve data from a given URL\n",
        "    mp_response = requests.get(link)\n",
        "    # Parse the whole HTML page using BeautifulSoup\n",
        "    mp_soup = BeautifulSoup(mp_response.text, 'html.parser')\n",
        "\n",
        "    # Extract product description\n",
        "    product_div_description = mp_soup.find('div', {'class': 'productDescription_contentWrapper'})\n",
        "    # Ingredient information retrieval\n",
        "    product_div_ingredients = mp_soup.find('div', {'class': 'productDescription_contentPropertyListItem_ingredients'})\n",
        "    # Extract ingredients\n",
        "    if product_div_ingredients:\n",
        "      ingredients_div = product_div_ingredients.find('div', class_='athenaProductPageSynopsisContent')\n",
        "      ingredients_text = ingredients_div.text.strip()\n",
        "      ingredients_text = re.sub(r'\\xa0', ' ', ingredients_text)\n",
        "      ingredients_text = extract_words_in_parentheses(ingredients_text.lower())\n",
        "      ingredients_text = split_and_insert(ingredients_text)\n",
        "      ingredients_text = [string.lstrip() for string in ingredients_text]\n",
        "      ingredients.append(ingredients_text)\n",
        "\n",
        "    if product_div_description:\n",
        "      description_ul = product_div_description.find('ul', class_='productDescription_contentPropertyValue')\n",
        "      description_li = description_ul.find('li', class_='productDescription_contentPropertyValue_value')\n",
        "      description_text = description_li.text.strip()\n",
        "      description_texts[product_names[i]] = description_text\n",
        "      # Classify product as hard or soft accessory\n",
        "      if description_text == \"Hard Accessories\":\n",
        "        hard_acc_products[product_names[i]] = link\n",
        "      else:\n",
        "        soft_acc_products[product_names[i]] = link\n",
        "\n",
        "    else:\n",
        "      description_texts[product_names[i]] = 'None'\n",
        "      continue\n",
        "  return hard_acc_products, soft_acc_products, description_texts, ingredients"
      ],
      "metadata": {
        "id": "ieXejJRZ2uZ5"
      },
      "execution_count": null,
      "outputs": []
    },
    {
      "cell_type": "code",
      "source": [
        "hard_acc_products, soft_acc_products, description_texts, _ = get_product_range(links)"
      ],
      "metadata": {
        "id": "2Df4Pp543CE-",
        "collapsed": true
      },
      "execution_count": null,
      "outputs": []
    },
    {
      "cell_type": "markdown",
      "source": [
        "Getting price data for protein product, from this [link](https://www.myprotein.co.il/nutrition/protein.list)\n",
        "\n",
        "\n",
        "\n"
      ],
      "metadata": {
        "id": "tNdemSW35LSz"
      }
    },
    {
      "cell_type": "code",
      "source": [
        "mp_url = \"https://www.myprotein.co.il/nutrition/protein.list\"\n",
        "# Use requests to retrieve data from a given URL\n",
        "mp_response = requests.get(mp_url)\n",
        "# Parse the whole HTML page using BeautifulSoup\n",
        "mp_soup = BeautifulSoup(mp_response.text, 'html.parser')"
      ],
      "metadata": {
        "id": "ipqwj4sbj-e5"
      },
      "execution_count": null,
      "outputs": []
    },
    {
      "cell_type": "markdown",
      "source": [
        "Getting links, description, ingredient, names, prices and pictures, for all the new products."
      ],
      "metadata": {
        "id": "kWwSZx1_PH3i"
      }
    },
    {
      "cell_type": "code",
      "source": [
        "links2 =  get_links_from_page(mp_soup)"
      ],
      "metadata": {
        "id": "V-Pu4gEyB8my"
      },
      "execution_count": null,
      "outputs": []
    },
    {
      "cell_type": "code",
      "source": [
        "_, _, description_texts2, ingredients2 = get_product_range(links2)"
      ],
      "metadata": {
        "id": "v0Jtc4dlCPmS"
      },
      "execution_count": null,
      "outputs": []
    },
    {
      "cell_type": "code",
      "source": [
        "product_prices2 = []\n",
        "product_names2 = []\n",
        "product_pics2 = []\n",
        "\n",
        "prices, names, pics = get_product_details(mp_soup)\n",
        "product_prices2.append(prices)\n",
        "product_names2.append(names)\n",
        "product_pics2.append(pics)"
      ],
      "metadata": {
        "id": "hD_IssSS4swT",
        "collapsed": true
      },
      "execution_count": null,
      "outputs": []
    },
    {
      "cell_type": "code",
      "source": [
        "product_names2 = flatten(product_names2)\n",
        "product_pics2 = flatten(product_pics2)\n",
        "product_prices2 = flatten(product_prices2)"
      ],
      "metadata": {
        "id": "ARrEatv840ru"
      },
      "execution_count": null,
      "outputs": []
    },
    {
      "cell_type": "markdown",
      "source": [
        "Create new array of tuples in the format of (product name, product price)."
      ],
      "metadata": {
        "id": "NjkYrjljPbdi"
      }
    },
    {
      "cell_type": "code",
      "source": [
        "product_data = [(product_names2[i], product_prices2[i]) for i in range(0, len(product_names2))]"
      ],
      "metadata": {
        "id": "1ibX9A3RuXMp"
      },
      "execution_count": null,
      "outputs": []
    },
    {
      "cell_type": "markdown",
      "source": [
        "Sort this new array by price."
      ],
      "metadata": {
        "id": "OkJjpw1aPpv-"
      }
    },
    {
      "cell_type": "code",
      "source": [
        "sorted_product_data = sorted(\n",
        "    product_data,\n",
        "    key=lambda x: x[1]\n",
        ")"
      ],
      "metadata": {
        "id": "wfpzzDiJuqKI"
      },
      "execution_count": null,
      "outputs": []
    },
    {
      "cell_type": "markdown",
      "source": [
        "Dictionary of all possible operations that the user might use, when deciding the price range"
      ],
      "metadata": {
        "id": "l7SH5YegPuTG"
      }
    },
    {
      "cell_type": "code",
      "source": [
        "operation_dict = {'less then': 1,\n",
        "                  'less then or equal': 2,\n",
        "                  'higher then': 3,\n",
        "                  'higher then or equal': 4,\n",
        "                  'between': 5,\n",
        "                  'equal': 6}"
      ],
      "metadata": {
        "id": "N9qMBxEFAssu"
      },
      "execution_count": null,
      "outputs": []
    },
    {
      "cell_type": "markdown",
      "source": [
        "Extract the operation and the numbers from user query"
      ],
      "metadata": {
        "id": "GSMd0S7TQSOX"
      }
    },
    {
      "cell_type": "code",
      "source": [
        "def get_operation(q):\n",
        "  # Find the operation based on keywords in the query\n",
        "  for key in operation_dict.keys():\n",
        "    if key in q:\n",
        "      operation = operation_dict[key]\n",
        "\n",
        "  # Extract numerical values from the query\n",
        "  extracted_nums = re.findall(r'\\d+', q)\n",
        "\n",
        "  # Validate the number of extracted values\n",
        "  if len(extracted_nums) >= 3:\n",
        "    print(\"Bad user input!\")\n",
        "    return\n",
        "\n",
        "  # Handle specific operation (operation 5) requiring two values\n",
        "  if operation == 5:\n",
        "    price_a, price_b = extracted_nums\n",
        "    return operation, price_a, price_b\n",
        "\n",
        "  # Default case: return the first extracted value and None for the second\n",
        "  price_a = extracted_nums\n",
        "  return operation, price_a[0], None"
      ],
      "metadata": {
        "id": "uO3xdtOE3hs9"
      },
      "execution_count": null,
      "outputs": []
    },
    {
      "cell_type": "markdown",
      "source": [
        "Function that performs the operation, using switch-case"
      ],
      "metadata": {
        "id": "ZYn4IbMcQg9L"
      }
    },
    {
      "cell_type": "code",
      "source": [
        "def perform_operation(operation, product_price, price_a, price_b):\n",
        "  # Convert price_a to a float\n",
        "  price_a = float(price_a)\n",
        "\n",
        "  # Convert price_b to a float if it's not None\n",
        "  if price_b:\n",
        "    price_b = float(price_b)\n",
        "\n",
        "  # Perform the comparison based on the operation\n",
        "  match operation:\n",
        "    case 1:\n",
        "      return product_price < price_a # Product price is less than price_a\n",
        "    case 2:\n",
        "      return product_price <= price_a # Product price is less than or equal to price_a\n",
        "    case 3:\n",
        "      return product_price > price_a # Product price is greater than price_a\n",
        "    case 4:\n",
        "      return product_price >= price_a # Product price is greater or equal to price_a\n",
        "    case 5:\n",
        "      return price_a < product_price < price_b # Product price is between price_a and price_b\n",
        "    case 6:\n",
        "      return product_price == price_a # Product price is equal to price_a\n",
        "\n",
        "  print(\"Such operation does not exits!\")\n",
        "  return"
      ],
      "metadata": {
        "id": "vV1LMgHSzcdt"
      },
      "execution_count": null,
      "outputs": []
    },
    {
      "cell_type": "markdown",
      "source": [
        "Example for user query, and the output."
      ],
      "metadata": {
        "id": "xJzOnNK0QtiY"
      }
    },
    {
      "cell_type": "code",
      "source": [
        "q = \"i want product with price between 50 and 200\"\n",
        "operation, price_a, price_b = get_operation(q)\n",
        "[price for price in sorted_product_data if perform_operation(operation, price[1], price_a, price_b)]"
      ],
      "metadata": {
        "colab": {
          "base_uri": "https://localhost:8080/"
        },
        "id": "daFMg3n6-3b6",
        "outputId": "a1d20fe9-a8c3-4a8f-efe7-8e9f9a5f17ae"
      },
      "execution_count": null,
      "outputs": [
        {
          "output_type": "execute_result",
          "data": {
            "text/plain": [
              "[('Impact Whey Protein Powder', 58.0),\n",
              " ('Impact Soy Protein', 68.0),\n",
              " ('Impact Pea Protein', 68.0),\n",
              " ('Plant Protein Superblend', 69.0),\n",
              " ('Protein Meal Replacement Blend', 73.0),\n",
              " ('Protein Hot Chocolate', 76.0),\n",
              " ('Impact Weight Gainer', 97.0),\n",
              " ('Breakfast Smoothie', 119.0),\n",
              " ('Clear Vegan Protein', 121.0),\n",
              " ('Clear Soy Protein', 121.0),\n",
              " ('Clear Whey Hydrate', 136.0),\n",
              " ('Impact Whey Isolate Powder', 150.0),\n",
              " ('Whey Forward Isolate', 150.0),\n",
              " ('Clear Collagen Protein Powder', 155.0),\n",
              " ('Clear Whey Diet', 160.0),\n",
              " ('Clear Whey Protein Powder', 170.0),\n",
              " ('Total Protein Blend', 170.0),\n",
              " ('Impact Diet Whey', 184.0),\n",
              " ('Collagen Protein Powder', 184.0),\n",
              " ('Impact Casein Powder', 194.0)]"
            ]
          },
          "metadata": {},
          "execution_count": 25
        }
      ]
    },
    {
      "cell_type": "markdown",
      "source": [
        "Convert all the data that we retrived from both links into json format."
      ],
      "metadata": {
        "id": "CAZJ8ly0Qyyt"
      }
    },
    {
      "cell_type": "code",
      "source": [
        "product_data_to_json = [(product_names[i], product_prices[i],  description_texts[product_names[i]], product_pics[i]) for i in range(0, len(description_texts))]"
      ],
      "metadata": {
        "id": "Oe4s3mqYZDrQ"
      },
      "execution_count": null,
      "outputs": []
    },
    {
      "cell_type": "code",
      "source": [
        "product_data_to_json2 = [(product_names2[i], product_prices2[i],  description_texts2[product_names[i]], ingredients2[i], product_pics2[i]) for i in range(0, len(description_texts2))]"
      ],
      "metadata": {
        "id": "tXAkzwnlFuvR"
      },
      "execution_count": null,
      "outputs": []
    },
    {
      "cell_type": "code",
      "source": [
        "# Convert to a list of dictionaries\n",
        "data_dict = [{\"product\": name, \"price\": price, \"description\": description, \"picture\": picture} for name, price, description, picture in product_data_to_json]\n",
        "# Write to a JSON file\n",
        "with open('products_from_acc_list.json', 'w') as outfile:\n",
        "  json.dump(data_dict, outfile, indent=4)"
      ],
      "metadata": {
        "id": "0s0NeCYsX8T-"
      },
      "execution_count": null,
      "outputs": []
    },
    {
      "cell_type": "code",
      "source": [
        "data_dict2 = [{\"product\": name, \"price\": price, \"description\": description, \"ingredients\":ingredients, \"picture\": picture} for name, price, description, ingredients, picture in product_data_to_json2]\n",
        "with open('products_from_protein_list.json', 'w') as outfile:\n",
        "  json.dump(data_dict2, outfile, indent=4)"
      ],
      "metadata": {
        "id": "-paICzVoF1Oi"
      },
      "execution_count": null,
      "outputs": []
    }
  ]
}